{
 "cells": [
  {
   "cell_type": "code",
   "execution_count": 2,
   "id": "2e3a57eb",
   "metadata": {},
   "outputs": [],
   "source": [
    "import numpy as np\n",
    "import matplotlib.pyplot as plt\n",
    "import statsmodels.api as sm\n",
    "import pandas as pd  \n",
    "import seaborn as sns\n",
    "from pmdarima import auto_arima\n",
    "from sklearn.model_selection import train_test_split\n",
    "from sklearn.neighbors import KNeighborsRegressor\n",
    "from sklearn.impute import KNNImputer\n",
    "import matplotlib.dates as mdates\n",
    "%matplotlib inline"
   ]
  },
  {
   "cell_type": "code",
   "execution_count": 9,
   "id": "c11d8cd5",
   "metadata": {},
   "outputs": [],
   "source": [
    "# Calculate the Mean Absolute Percentage Error (MAPE) for training and testing data\n",
    "def calculate_mape(y_true, y_pred):\n",
    "    return (100 * abs((y_true - y_pred) / y_true)).mean()"
   ]
  },
  {
   "cell_type": "code",
   "execution_count": 26,
   "id": "d1a14102",
   "metadata": {},
   "outputs": [],
   "source": [
    "df_imputed = pd.read_csv(\"caiso_weekly_fuel_mix_and_load_imputed_GWh.csv\", parse_dates=[\"Week_Start\", \"Week_End\"])"
   ]
  },
  {
   "cell_type": "code",
   "execution_count": 27,
   "id": "91aca755",
   "metadata": {},
   "outputs": [],
   "source": [
    "solar_data_imp = df_imputed[['Week_Start', 'Solar']]\n",
    "wind_data_imp = df_imputed[['Week_Start', 'Wind']]\n",
    "geothermal_data_imp = df_imputed[['Week_Start', 'Geothermal']]\n",
    "biomass_data_imp = df_imputed[['Week_Start', 'Biomass']]\n",
    "biogas_data_imp = df_imputed[['Week_Start', 'Biogas']]\n",
    "small_hydro_data_imp = df_imputed[['Week_Start', 'Small Hydro']]\n",
    "coal_data_imp = df_imputed[['Week_Start', 'Coal']]\n",
    "nuclear_data_imp = df_imputed[['Week_Start', 'Nuclear']]\n",
    "natural_gas_data_imp = df_imputed[['Week_Start', 'Natural Gas']]\n",
    "large_hydro_data_imp = df_imputed[['Week_Start', 'Large Hydro']]\n",
    "batteries_data_imp = df_imputed[['Week_Start', 'Batteries']]\n",
    "imports_data_imp = df_imputed[['Week_Start', 'Imports']]\n",
    "other_data_imp = df_imputed[['Week_Start', 'Other']]\n",
    "load_data_imp = df_imputed[['Week_Start', 'CAISO_Load_GWh']]"
   ]
  },
  {
   "cell_type": "code",
   "execution_count": 42,
   "id": "f1e8d8bf",
   "metadata": {},
   "outputs": [
    {
     "name": "stdout",
     "output_type": "stream",
     "text": [
      "Training set size: 228 samples\n",
      "Testing set size: 153 samples\n"
     ]
    }
   ],
   "source": [
    "# Calculate the split point (70% of data)\n",
    "split_point = int(len(df_imputed) * 0.6)\n",
    "\n",
    "# Split each imputed time series into training and testing sets\n",
    "# Solar\n",
    "solar_train = solar_data_imp.iloc[:split_point]\n",
    "solar_test = solar_data_imp.iloc[split_point:]\n",
    "\n",
    "# Wind\n",
    "wind_train = wind_data_imp.iloc[:split_point]\n",
    "wind_test = wind_data_imp.iloc[split_point:]\n",
    "\n",
    "# Geothermal\n",
    "geothermal_train = geothermal_data_imp.iloc[:split_point]\n",
    "geothermal_test = geothermal_data_imp.iloc[split_point:]\n",
    "\n",
    "# Biomass\n",
    "biomass_train = biomass_data_imp.iloc[:split_point]\n",
    "biomass_test = biomass_data_imp.iloc[split_point:]\n",
    "\n",
    "# Biogas\n",
    "biogas_train = biogas_data_imp.iloc[:split_point]\n",
    "biogas_test = biogas_data_imp.iloc[split_point:]\n",
    "\n",
    "# Small Hydro\n",
    "small_hydro_train = small_hydro_data_imp.iloc[:split_point]\n",
    "small_hydro_test = small_hydro_data_imp.iloc[split_point:]\n",
    "\n",
    "# Coal\n",
    "coal_train = coal_data_imp.iloc[:split_point]\n",
    "coal_test = coal_data_imp.iloc[split_point:]\n",
    "\n",
    "# Nuclear\n",
    "nuclear_train = nuclear_data_imp.iloc[:split_point]\n",
    "nuclear_test = nuclear_data_imp.iloc[split_point:]\n",
    "\n",
    "# Natural Gas\n",
    "natural_gas_train = natural_gas_data_imp.iloc[:split_point]\n",
    "natural_gas_test = natural_gas_data_imp.iloc[split_point:]\n",
    "\n",
    "# Large Hydro\n",
    "large_hydro_train = large_hydro_data_imp.iloc[:split_point]\n",
    "large_hydro_test = large_hydro_data_imp.iloc[split_point:]\n",
    "\n",
    "# Batteries\n",
    "batteries_train = batteries_data_imp.iloc[:split_point]\n",
    "batteries_test = batteries_data_imp.iloc[split_point:]\n",
    "\n",
    "# Imports\n",
    "imports_train = imports_data_imp.iloc[:split_point]\n",
    "imports_test = imports_data_imp.iloc[split_point:]\n",
    "\n",
    "# Other\n",
    "other_train = other_data_imp.iloc[:split_point]\n",
    "other_test = other_data_imp.iloc[split_point:]\n",
    "\n",
    "# Load\n",
    "load_train = load_data_imp.iloc[:split_point]\n",
    "load_test = load_data_imp.iloc[split_point:]\n",
    "\n",
    "print(f\"Training set size: {len(solar_train)} samples\")\n",
    "print(f\"Testing set size: {len(solar_test)} samples\")"
   ]
  },
  {
   "cell_type": "code",
   "execution_count": 43,
   "id": "75384b1e",
   "metadata": {},
   "outputs": [
    {
     "name": "stderr",
     "output_type": "stream",
     "text": [
      "/Users/shane/Documents/MIT 2025-2026/Summer/15.066 System Optimization and Analysis for Operations/15066_final_project/.venv/lib/python3.12/site-packages/sklearn/utils/deprecation.py:132: FutureWarning: 'force_all_finite' was renamed to 'ensure_all_finite' in 1.6 and will be removed in 1.8.\n",
      "  warnings.warn(\n",
      "/Users/shane/Documents/MIT 2025-2026/Summer/15.066 System Optimization and Analysis for Operations/15066_final_project/.venv/lib/python3.12/site-packages/sklearn/utils/deprecation.py:132: FutureWarning: 'force_all_finite' was renamed to 'ensure_all_finite' in 1.6 and will be removed in 1.8.\n",
      "  warnings.warn(\n",
      "/Users/shane/Documents/MIT 2025-2026/Summer/15.066 System Optimization and Analysis for Operations/15066_final_project/.venv/lib/python3.12/site-packages/sklearn/utils/deprecation.py:132: FutureWarning: 'force_all_finite' was renamed to 'ensure_all_finite' in 1.6 and will be removed in 1.8.\n",
      "  warnings.warn(\n",
      "/Users/shane/Documents/MIT 2025-2026/Summer/15.066 System Optimization and Analysis for Operations/15066_final_project/.venv/lib/python3.12/site-packages/sklearn/utils/deprecation.py:132: FutureWarning: 'force_all_finite' was renamed to 'ensure_all_finite' in 1.6 and will be removed in 1.8.\n",
      "  warnings.warn(\n",
      "/Users/shane/Documents/MIT 2025-2026/Summer/15.066 System Optimization and Analysis for Operations/15066_final_project/.venv/lib/python3.12/site-packages/sklearn/utils/deprecation.py:132: FutureWarning: 'force_all_finite' was renamed to 'ensure_all_finite' in 1.6 and will be removed in 1.8.\n",
      "  warnings.warn(\n",
      "/Users/shane/Documents/MIT 2025-2026/Summer/15.066 System Optimization and Analysis for Operations/15066_final_project/.venv/lib/python3.12/site-packages/sklearn/utils/deprecation.py:132: FutureWarning: 'force_all_finite' was renamed to 'ensure_all_finite' in 1.6 and will be removed in 1.8.\n",
      "  warnings.warn(\n",
      "/Users/shane/Documents/MIT 2025-2026/Summer/15.066 System Optimization and Analysis for Operations/15066_final_project/.venv/lib/python3.12/site-packages/sklearn/utils/deprecation.py:132: FutureWarning: 'force_all_finite' was renamed to 'ensure_all_finite' in 1.6 and will be removed in 1.8.\n",
      "  warnings.warn(\n",
      "/Users/shane/Documents/MIT 2025-2026/Summer/15.066 System Optimization and Analysis for Operations/15066_final_project/.venv/lib/python3.12/site-packages/sklearn/utils/deprecation.py:132: FutureWarning: 'force_all_finite' was renamed to 'ensure_all_finite' in 1.6 and will be removed in 1.8.\n",
      "  warnings.warn(\n",
      "/Users/shane/Documents/MIT 2025-2026/Summer/15.066 System Optimization and Analysis for Operations/15066_final_project/.venv/lib/python3.12/site-packages/sklearn/utils/deprecation.py:132: FutureWarning: 'force_all_finite' was renamed to 'ensure_all_finite' in 1.6 and will be removed in 1.8.\n",
      "  warnings.warn(\n",
      "/Users/shane/Documents/MIT 2025-2026/Summer/15.066 System Optimization and Analysis for Operations/15066_final_project/.venv/lib/python3.12/site-packages/sklearn/utils/deprecation.py:132: FutureWarning: 'force_all_finite' was renamed to 'ensure_all_finite' in 1.6 and will be removed in 1.8.\n",
      "  warnings.warn(\n",
      "/Users/shane/Documents/MIT 2025-2026/Summer/15.066 System Optimization and Analysis for Operations/15066_final_project/.venv/lib/python3.12/site-packages/sklearn/utils/deprecation.py:132: FutureWarning: 'force_all_finite' was renamed to 'ensure_all_finite' in 1.6 and will be removed in 1.8.\n",
      "  warnings.warn(\n"
     ]
    },
    {
     "name": "stdout",
     "output_type": "stream",
     "text": [
      "Performing stepwise search to minimize aic\n",
      " ARIMA(2,1,2)(1,0,1)[52] intercept   : AIC=inf, Time=1.82 sec\n",
      " ARIMA(0,1,0)(0,0,0)[52] intercept   : AIC=2591.162, Time=0.00 sec\n"
     ]
    },
    {
     "name": "stderr",
     "output_type": "stream",
     "text": [
      "/Users/shane/Documents/MIT 2025-2026/Summer/15.066 System Optimization and Analysis for Operations/15066_final_project/.venv/lib/python3.12/site-packages/sklearn/utils/deprecation.py:132: FutureWarning: 'force_all_finite' was renamed to 'ensure_all_finite' in 1.6 and will be removed in 1.8.\n",
      "  warnings.warn(\n",
      "/Users/shane/Documents/MIT 2025-2026/Summer/15.066 System Optimization and Analysis for Operations/15066_final_project/.venv/lib/python3.12/site-packages/sklearn/utils/deprecation.py:132: FutureWarning: 'force_all_finite' was renamed to 'ensure_all_finite' in 1.6 and will be removed in 1.8.\n",
      "  warnings.warn(\n"
     ]
    },
    {
     "name": "stdout",
     "output_type": "stream",
     "text": [
      " ARIMA(1,1,0)(1,0,0)[52] intercept   : AIC=2577.162, Time=0.39 sec\n"
     ]
    },
    {
     "name": "stderr",
     "output_type": "stream",
     "text": [
      "/Users/shane/Documents/MIT 2025-2026/Summer/15.066 System Optimization and Analysis for Operations/15066_final_project/.venv/lib/python3.12/site-packages/sklearn/utils/deprecation.py:132: FutureWarning: 'force_all_finite' was renamed to 'ensure_all_finite' in 1.6 and will be removed in 1.8.\n",
      "  warnings.warn(\n"
     ]
    },
    {
     "name": "stdout",
     "output_type": "stream",
     "text": [
      " ARIMA(0,1,1)(0,0,1)[52] intercept   : AIC=2576.610, Time=0.47 sec\n",
      " ARIMA(0,1,0)(0,0,0)[52]             : AIC=2589.240, Time=0.00 sec\n",
      " ARIMA(0,1,1)(0,0,0)[52] intercept   : AIC=2574.804, Time=0.01 sec\n"
     ]
    },
    {
     "name": "stderr",
     "output_type": "stream",
     "text": [
      "/Users/shane/Documents/MIT 2025-2026/Summer/15.066 System Optimization and Analysis for Operations/15066_final_project/.venv/lib/python3.12/site-packages/sklearn/utils/deprecation.py:132: FutureWarning: 'force_all_finite' was renamed to 'ensure_all_finite' in 1.6 and will be removed in 1.8.\n",
      "  warnings.warn(\n",
      "/Users/shane/Documents/MIT 2025-2026/Summer/15.066 System Optimization and Analysis for Operations/15066_final_project/.venv/lib/python3.12/site-packages/sklearn/utils/deprecation.py:132: FutureWarning: 'force_all_finite' was renamed to 'ensure_all_finite' in 1.6 and will be removed in 1.8.\n",
      "  warnings.warn(\n",
      "/Users/shane/Documents/MIT 2025-2026/Summer/15.066 System Optimization and Analysis for Operations/15066_final_project/.venv/lib/python3.12/site-packages/sklearn/utils/deprecation.py:132: FutureWarning: 'force_all_finite' was renamed to 'ensure_all_finite' in 1.6 and will be removed in 1.8.\n",
      "  warnings.warn(\n"
     ]
    },
    {
     "name": "stdout",
     "output_type": "stream",
     "text": [
      " ARIMA(0,1,1)(1,0,0)[52] intercept   : AIC=2576.599, Time=0.40 sec\n"
     ]
    },
    {
     "name": "stderr",
     "output_type": "stream",
     "text": [
      "/Users/shane/Documents/MIT 2025-2026/Summer/15.066 System Optimization and Analysis for Operations/15066_final_project/.venv/lib/python3.12/site-packages/sklearn/utils/deprecation.py:132: FutureWarning: 'force_all_finite' was renamed to 'ensure_all_finite' in 1.6 and will be removed in 1.8.\n",
      "  warnings.warn(\n"
     ]
    },
    {
     "name": "stdout",
     "output_type": "stream",
     "text": [
      " ARIMA(0,1,1)(1,0,1)[52] intercept   : AIC=inf, Time=1.58 sec\n",
      " ARIMA(1,1,1)(0,0,0)[52] intercept   : AIC=2576.172, Time=0.01 sec\n",
      " ARIMA(0,1,2)(0,0,0)[52] intercept   : AIC=2575.323, Time=0.02 sec\n",
      " ARIMA(1,1,0)(0,0,0)[52] intercept   : AIC=2575.169, Time=0.01 sec\n",
      " ARIMA(1,1,2)(0,0,0)[52] intercept   : AIC=2571.546, Time=0.04 sec\n"
     ]
    },
    {
     "name": "stderr",
     "output_type": "stream",
     "text": [
      "/Users/shane/Documents/MIT 2025-2026/Summer/15.066 System Optimization and Analysis for Operations/15066_final_project/.venv/lib/python3.12/site-packages/sklearn/utils/deprecation.py:132: FutureWarning: 'force_all_finite' was renamed to 'ensure_all_finite' in 1.6 and will be removed in 1.8.\n",
      "  warnings.warn(\n",
      "/Users/shane/Documents/MIT 2025-2026/Summer/15.066 System Optimization and Analysis for Operations/15066_final_project/.venv/lib/python3.12/site-packages/sklearn/utils/deprecation.py:132: FutureWarning: 'force_all_finite' was renamed to 'ensure_all_finite' in 1.6 and will be removed in 1.8.\n",
      "  warnings.warn(\n",
      "/Users/shane/Documents/MIT 2025-2026/Summer/15.066 System Optimization and Analysis for Operations/15066_final_project/.venv/lib/python3.12/site-packages/sklearn/utils/deprecation.py:132: FutureWarning: 'force_all_finite' was renamed to 'ensure_all_finite' in 1.6 and will be removed in 1.8.\n",
      "  warnings.warn(\n",
      "/Users/shane/Documents/MIT 2025-2026/Summer/15.066 System Optimization and Analysis for Operations/15066_final_project/.venv/lib/python3.12/site-packages/sklearn/utils/deprecation.py:132: FutureWarning: 'force_all_finite' was renamed to 'ensure_all_finite' in 1.6 and will be removed in 1.8.\n",
      "  warnings.warn(\n",
      "/Users/shane/Documents/MIT 2025-2026/Summer/15.066 System Optimization and Analysis for Operations/15066_final_project/.venv/lib/python3.12/site-packages/sklearn/utils/deprecation.py:132: FutureWarning: 'force_all_finite' was renamed to 'ensure_all_finite' in 1.6 and will be removed in 1.8.\n",
      "  warnings.warn(\n"
     ]
    },
    {
     "name": "stdout",
     "output_type": "stream",
     "text": [
      " ARIMA(1,1,2)(1,0,0)[52] intercept   : AIC=2573.459, Time=1.00 sec\n"
     ]
    },
    {
     "name": "stderr",
     "output_type": "stream",
     "text": [
      "/Users/shane/Documents/MIT 2025-2026/Summer/15.066 System Optimization and Analysis for Operations/15066_final_project/.venv/lib/python3.12/site-packages/sklearn/utils/deprecation.py:132: FutureWarning: 'force_all_finite' was renamed to 'ensure_all_finite' in 1.6 and will be removed in 1.8.\n",
      "  warnings.warn(\n"
     ]
    },
    {
     "name": "stdout",
     "output_type": "stream",
     "text": [
      " ARIMA(1,1,2)(0,0,1)[52] intercept   : AIC=2573.455, Time=0.75 sec\n"
     ]
    },
    {
     "name": "stderr",
     "output_type": "stream",
     "text": [
      "/Users/shane/Documents/MIT 2025-2026/Summer/15.066 System Optimization and Analysis for Operations/15066_final_project/.venv/lib/python3.12/site-packages/sklearn/utils/deprecation.py:132: FutureWarning: 'force_all_finite' was renamed to 'ensure_all_finite' in 1.6 and will be removed in 1.8.\n",
      "  warnings.warn(\n"
     ]
    },
    {
     "name": "stdout",
     "output_type": "stream",
     "text": [
      " ARIMA(1,1,2)(1,0,1)[52] intercept   : AIC=2575.444, Time=1.48 sec\n",
      " ARIMA(2,1,2)(0,0,0)[52] intercept   : AIC=2573.608, Time=0.08 sec\n",
      " ARIMA(1,1,3)(0,0,0)[52] intercept   : AIC=2573.099, Time=0.07 sec\n",
      " ARIMA(0,1,3)(0,0,0)[52] intercept   : AIC=2572.671, Time=0.02 sec\n"
     ]
    },
    {
     "name": "stderr",
     "output_type": "stream",
     "text": [
      "/Users/shane/Documents/MIT 2025-2026/Summer/15.066 System Optimization and Analysis for Operations/15066_final_project/.venv/lib/python3.12/site-packages/sklearn/utils/deprecation.py:132: FutureWarning: 'force_all_finite' was renamed to 'ensure_all_finite' in 1.6 and will be removed in 1.8.\n",
      "  warnings.warn(\n",
      "/Users/shane/Documents/MIT 2025-2026/Summer/15.066 System Optimization and Analysis for Operations/15066_final_project/.venv/lib/python3.12/site-packages/sklearn/utils/deprecation.py:132: FutureWarning: 'force_all_finite' was renamed to 'ensure_all_finite' in 1.6 and will be removed in 1.8.\n",
      "  warnings.warn(\n",
      "/Users/shane/Documents/MIT 2025-2026/Summer/15.066 System Optimization and Analysis for Operations/15066_final_project/.venv/lib/python3.12/site-packages/sklearn/utils/deprecation.py:132: FutureWarning: 'force_all_finite' was renamed to 'ensure_all_finite' in 1.6 and will be removed in 1.8.\n",
      "  warnings.warn(\n",
      "/Users/shane/Documents/MIT 2025-2026/Summer/15.066 System Optimization and Analysis for Operations/15066_final_project/.venv/lib/python3.12/site-packages/sklearn/utils/deprecation.py:132: FutureWarning: 'force_all_finite' was renamed to 'ensure_all_finite' in 1.6 and will be removed in 1.8.\n",
      "  warnings.warn(\n"
     ]
    },
    {
     "name": "stdout",
     "output_type": "stream",
     "text": [
      " ARIMA(2,1,1)(0,0,0)[52] intercept   : AIC=2576.373, Time=0.04 sec\n",
      " ARIMA(2,1,3)(0,0,0)[52] intercept   : AIC=2574.749, Time=0.12 sec\n",
      " ARIMA(1,1,2)(0,0,0)[52]             : AIC=2569.621, Time=0.03 sec\n"
     ]
    },
    {
     "name": "stderr",
     "output_type": "stream",
     "text": [
      "/Users/shane/Documents/MIT 2025-2026/Summer/15.066 System Optimization and Analysis for Operations/15066_final_project/.venv/lib/python3.12/site-packages/sklearn/utils/deprecation.py:132: FutureWarning: 'force_all_finite' was renamed to 'ensure_all_finite' in 1.6 and will be removed in 1.8.\n",
      "  warnings.warn(\n",
      "/Users/shane/Documents/MIT 2025-2026/Summer/15.066 System Optimization and Analysis for Operations/15066_final_project/.venv/lib/python3.12/site-packages/sklearn/utils/deprecation.py:132: FutureWarning: 'force_all_finite' was renamed to 'ensure_all_finite' in 1.6 and will be removed in 1.8.\n",
      "  warnings.warn(\n",
      "/Users/shane/Documents/MIT 2025-2026/Summer/15.066 System Optimization and Analysis for Operations/15066_final_project/.venv/lib/python3.12/site-packages/sklearn/utils/deprecation.py:132: FutureWarning: 'force_all_finite' was renamed to 'ensure_all_finite' in 1.6 and will be removed in 1.8.\n",
      "  warnings.warn(\n"
     ]
    },
    {
     "name": "stdout",
     "output_type": "stream",
     "text": [
      " ARIMA(1,1,2)(1,0,0)[52]             : AIC=2571.535, Time=0.63 sec\n"
     ]
    },
    {
     "name": "stderr",
     "output_type": "stream",
     "text": [
      "/Users/shane/Documents/MIT 2025-2026/Summer/15.066 System Optimization and Analysis for Operations/15066_final_project/.venv/lib/python3.12/site-packages/sklearn/utils/deprecation.py:132: FutureWarning: 'force_all_finite' was renamed to 'ensure_all_finite' in 1.6 and will be removed in 1.8.\n",
      "  warnings.warn(\n"
     ]
    },
    {
     "name": "stdout",
     "output_type": "stream",
     "text": [
      " ARIMA(1,1,2)(0,0,1)[52]             : AIC=2571.531, Time=0.62 sec\n"
     ]
    },
    {
     "name": "stderr",
     "output_type": "stream",
     "text": [
      "/Users/shane/Documents/MIT 2025-2026/Summer/15.066 System Optimization and Analysis for Operations/15066_final_project/.venv/lib/python3.12/site-packages/sklearn/utils/deprecation.py:132: FutureWarning: 'force_all_finite' was renamed to 'ensure_all_finite' in 1.6 and will be removed in 1.8.\n",
      "  warnings.warn(\n"
     ]
    },
    {
     "name": "stdout",
     "output_type": "stream",
     "text": [
      " ARIMA(1,1,2)(1,0,1)[52]             : AIC=2573.520, Time=1.34 sec\n",
      " ARIMA(0,1,2)(0,0,0)[52]             : AIC=2573.447, Time=0.01 sec\n",
      " ARIMA(1,1,1)(0,0,0)[52]             : AIC=2574.301, Time=0.01 sec\n",
      " ARIMA(2,1,2)(0,0,0)[52]             : AIC=2571.733, Time=0.03 sec\n",
      " ARIMA(1,1,3)(0,0,0)[52]             : AIC=2571.174, Time=0.03 sec\n",
      " ARIMA(0,1,1)(0,0,0)[52]             : AIC=2572.936, Time=0.01 sec\n",
      " ARIMA(0,1,3)(0,0,0)[52]             : AIC=2570.789, Time=0.02 sec\n",
      " ARIMA(2,1,1)(0,0,0)[52]             : AIC=2574.510, Time=0.02 sec\n",
      " ARIMA(2,1,3)(0,0,0)[52]             : AIC=2572.825, Time=0.05 sec\n",
      "\n",
      "Best model:  ARIMA(1,1,2)(0,0,0)[52]          \n",
      "Total fit time: 11.155 seconds\n"
     ]
    },
    {
     "name": "stderr",
     "output_type": "stream",
     "text": [
      "/Users/shane/Documents/MIT 2025-2026/Summer/15.066 System Optimization and Analysis for Operations/15066_final_project/.venv/lib/python3.12/site-packages/sklearn/utils/deprecation.py:132: FutureWarning: 'force_all_finite' was renamed to 'ensure_all_finite' in 1.6 and will be removed in 1.8.\n",
      "  warnings.warn(\n",
      "/Users/shane/Documents/MIT 2025-2026/Summer/15.066 System Optimization and Analysis for Operations/15066_final_project/.venv/lib/python3.12/site-packages/sklearn/utils/deprecation.py:132: FutureWarning: 'force_all_finite' was renamed to 'ensure_all_finite' in 1.6 and will be removed in 1.8.\n",
      "  warnings.warn(\n",
      "/Users/shane/Documents/MIT 2025-2026/Summer/15.066 System Optimization and Analysis for Operations/15066_final_project/.venv/lib/python3.12/site-packages/sklearn/utils/deprecation.py:132: FutureWarning: 'force_all_finite' was renamed to 'ensure_all_finite' in 1.6 and will be removed in 1.8.\n",
      "  warnings.warn(\n",
      "/Users/shane/Documents/MIT 2025-2026/Summer/15.066 System Optimization and Analysis for Operations/15066_final_project/.venv/lib/python3.12/site-packages/sklearn/utils/deprecation.py:132: FutureWarning: 'force_all_finite' was renamed to 'ensure_all_finite' in 1.6 and will be removed in 1.8.\n",
      "  warnings.warn(\n",
      "/Users/shane/Documents/MIT 2025-2026/Summer/15.066 System Optimization and Analysis for Operations/15066_final_project/.venv/lib/python3.12/site-packages/sklearn/utils/deprecation.py:132: FutureWarning: 'force_all_finite' was renamed to 'ensure_all_finite' in 1.6 and will be removed in 1.8.\n",
      "  warnings.warn(\n",
      "/Users/shane/Documents/MIT 2025-2026/Summer/15.066 System Optimization and Analysis for Operations/15066_final_project/.venv/lib/python3.12/site-packages/sklearn/utils/deprecation.py:132: FutureWarning: 'force_all_finite' was renamed to 'ensure_all_finite' in 1.6 and will be removed in 1.8.\n",
      "  warnings.warn(\n",
      "/Users/shane/Documents/MIT 2025-2026/Summer/15.066 System Optimization and Analysis for Operations/15066_final_project/.venv/lib/python3.12/site-packages/sklearn/utils/deprecation.py:132: FutureWarning: 'force_all_finite' was renamed to 'ensure_all_finite' in 1.6 and will be removed in 1.8.\n",
      "  warnings.warn(\n",
      "/Users/shane/Documents/MIT 2025-2026/Summer/15.066 System Optimization and Analysis for Operations/15066_final_project/.venv/lib/python3.12/site-packages/sklearn/utils/deprecation.py:132: FutureWarning: 'force_all_finite' was renamed to 'ensure_all_finite' in 1.6 and will be removed in 1.8.\n",
      "  warnings.warn(\n"
     ]
    },
    {
     "name": "stdout",
     "output_type": "stream",
     "text": [
      "                               SARIMAX Results                                \n",
      "==============================================================================\n",
      "Dep. Variable:                      y   No. Observations:                  228\n",
      "Model:               SARIMAX(1, 1, 2)   Log Likelihood               -1280.810\n",
      "Date:                Sun, 03 Aug 2025   AIC                           2569.621\n",
      "Time:                        22:23:53   BIC                           2583.320\n",
      "Sample:                             0   HQIC                          2575.149\n",
      "                                - 228                                         \n",
      "Covariance Type:                  opg                                         \n",
      "==============================================================================\n",
      "                 coef    std err          z      P>|z|      [0.025      0.975]\n",
      "------------------------------------------------------------------------------\n",
      "ar.L1          0.8359      0.126      6.623      0.000       0.589       1.083\n",
      "ma.L1         -1.1698      0.132     -8.867      0.000      -1.428      -0.911\n",
      "ma.L2          0.3563      0.065      5.518      0.000       0.230       0.483\n",
      "sigma2      4655.0642    444.513     10.472      0.000    3783.835    5526.294\n",
      "===================================================================================\n",
      "Ljung-Box (L1) (Q):                   0.04   Jarque-Bera (JB):                 0.13\n",
      "Prob(Q):                              0.84   Prob(JB):                         0.94\n",
      "Heteroskedasticity (H):               1.19   Skew:                            -0.06\n",
      "Prob(H) (two-sided):                  0.46   Kurtosis:                         2.97\n",
      "===================================================================================\n",
      "\n",
      "Warnings:\n",
      "[1] Covariance matrix calculated using the outer product of gradients (complex-step).\n",
      "35.138853031770054\n"
     ]
    },
    {
     "name": "stderr",
     "output_type": "stream",
     "text": [
      "/Users/shane/Documents/MIT 2025-2026/Summer/15.066 System Optimization and Analysis for Operations/15066_final_project/.venv/lib/python3.12/site-packages/sklearn/utils/deprecation.py:132: FutureWarning: 'force_all_finite' was renamed to 'ensure_all_finite' in 1.6 and will be removed in 1.8.\n",
      "  warnings.warn(\n"
     ]
    },
    {
     "data": {
      "image/png": "[encoded data removed]",
      "text/plain": [
       "<Figure size 1200x600 with 2 Axes>"
      ]
     },
     "metadata": {},
     "output_type": "display_data"
    }
   ],
   "source": [
    "# Fit an auto_arima model to the solar training data\n",
    "solar_arima_model = auto_arima(\n",
    "    solar_train[\"Solar\"],\n",
    "    seasonal=True,\n",
    "    m=52,\n",
    "    trace=True,\n",
    "    error_action='ignore',\n",
    "    suppress_warnings=True,\n",
    "    # information_criterion='aicc',\n",
    "    # start_p=1, start_q=0,            # lower bounds\n",
    "    # max_p=4,  max_q=4,               # let it explore more AR & MA lags\n",
    "    # start_P=1, start_Q=0,\n",
    "    # max_P=4,  max_Q=3,\n",
    "    # d=None,  D=None,\n",
    "    # # stepwise=False\n",
    ")\n",
    "print(solar_arima_model.summary())\n",
    "predicted_values = solar_arima_model.predict(n_periods=len(solar_test))\n",
    "actual_values = solar_test['Solar']\n",
    "mape_solar = calculate_mape(actual_values, predicted_values)\n",
    "print(mape_solar)\n",
    "# Create two separate plots for actual and predicted solar data\n",
    "fig, axes = plt.subplots(2, 1, figsize=(12, 6))\n",
    "\n",
    "# Actual sales data scatter plot\n",
    "axes[0].plot(solar_test['Week_Start'], actual_values, color='blue')\n",
    "axes[0].set_xlabel('Date')\n",
    "axes[0].set_ylabel('Solar Energy (GWh)')\n",
    "axes[0].set_title('Actual Solar Energy')\n",
    "\n",
    "# Predicted sales data scatter plot\n",
    "axes[1].plot(solar_test['Week_Start'], predicted_values, color='orange')\n",
    "axes[1].set_xlabel('Date')\n",
    "axes[1].set_ylabel('Predicted Solar Energy (GWh)')\n",
    "axes[1].set_title('Predicted Solar Energy')\n",
    "\n",
    "# Adjust layout and display plots\n",
    "plt.tight_layout()\n",
    "plt.show()"
   ]
  },
  {
   "cell_type": "code",
   "execution_count": 37,
   "id": "b0fc3311",
   "metadata": {},
   "outputs": [
    {
     "name": "stdout",
     "output_type": "stream",
     "text": [
      "The ARIMA parameters are p = 1, d = 1, q = 2\n",
      "The seasonal ARIMA parameters are P = 0, D = 0, Q = 0\n"
     ]
    }
   ],
   "source": [
    "# Extract the parameters\n",
    "p, d, q = solar_arima_model.order\n",
    "P, D, Q, s = solar_arima_model.seasonal_order\n",
    "\n",
    "print(f\"The ARIMA parameters are p = {p}, d = {d}, q = {q}\")\n",
    "print(f\"The seasonal ARIMA parameters are P = {P}, D = {D}, Q = {Q}\")"
   ]
  },
  {
   "cell_type": "code",
   "execution_count": 21,
   "id": "c78cc167",
   "metadata": {},
   "outputs": [
    {
     "name": "stderr",
     "output_type": "stream",
     "text": [
      "/Users/shane/Documents/MIT 2025-2026/Summer/15.066 System Optimization and Analysis for Operations/15066_final_project/.venv/lib/python3.12/site-packages/sklearn/utils/deprecation.py:132: FutureWarning: 'force_all_finite' was renamed to 'ensure_all_finite' in 1.6 and will be removed in 1.8.\n",
      "  warnings.warn(\n",
      "/Users/shane/Documents/MIT 2025-2026/Summer/15.066 System Optimization and Analysis for Operations/15066_final_project/.venv/lib/python3.12/site-packages/sklearn/utils/deprecation.py:132: FutureWarning: 'force_all_finite' was renamed to 'ensure_all_finite' in 1.6 and will be removed in 1.8.\n",
      "  warnings.warn(\n",
      "/Users/shane/Documents/MIT 2025-2026/Summer/15.066 System Optimization and Analysis for Operations/15066_final_project/.venv/lib/python3.12/site-packages/sklearn/utils/deprecation.py:132: FutureWarning: 'force_all_finite' was renamed to 'ensure_all_finite' in 1.6 and will be removed in 1.8.\n",
      "  warnings.warn(\n",
      "/Users/shane/Documents/MIT 2025-2026/Summer/15.066 System Optimization and Analysis for Operations/15066_final_project/.venv/lib/python3.12/site-packages/sklearn/utils/deprecation.py:132: FutureWarning: 'force_all_finite' was renamed to 'ensure_all_finite' in 1.6 and will be removed in 1.8.\n",
      "  warnings.warn(\n",
      "/Users/shane/Documents/MIT 2025-2026/Summer/15.066 System Optimization and Analysis for Operations/15066_final_project/.venv/lib/python3.12/site-packages/sklearn/utils/deprecation.py:132: FutureWarning: 'force_all_finite' was renamed to 'ensure_all_finite' in 1.6 and will be removed in 1.8.\n",
      "  warnings.warn(\n",
      "/Users/shane/Documents/MIT 2025-2026/Summer/15.066 System Optimization and Analysis for Operations/15066_final_project/.venv/lib/python3.12/site-packages/sklearn/utils/deprecation.py:132: FutureWarning: 'force_all_finite' was renamed to 'ensure_all_finite' in 1.6 and will be removed in 1.8.\n",
      "  warnings.warn(\n",
      "/Users/shane/Documents/MIT 2025-2026/Summer/15.066 System Optimization and Analysis for Operations/15066_final_project/.venv/lib/python3.12/site-packages/sklearn/utils/deprecation.py:132: FutureWarning: 'force_all_finite' was renamed to 'ensure_all_finite' in 1.6 and will be removed in 1.8.\n",
      "  warnings.warn(\n",
      "/Users/shane/Documents/MIT 2025-2026/Summer/15.066 System Optimization and Analysis for Operations/15066_final_project/.venv/lib/python3.12/site-packages/sklearn/utils/deprecation.py:132: FutureWarning: 'force_all_finite' was renamed to 'ensure_all_finite' in 1.6 and will be removed in 1.8.\n",
      "  warnings.warn(\n"
     ]
    },
    {
     "name": "stdout",
     "output_type": "stream",
     "text": [
      "Performing stepwise search to minimize aic\n",
      " ARIMA(2,0,2)(1,0,1)[52] intercept   : AIC=3693.696, Time=2.83 sec\n",
      " ARIMA(0,0,0)(0,0,0)[52] intercept   : AIC=4129.528, Time=0.00 sec\n"
     ]
    },
    {
     "name": "stderr",
     "output_type": "stream",
     "text": [
      "/Users/shane/Documents/MIT 2025-2026/Summer/15.066 System Optimization and Analysis for Operations/15066_final_project/.venv/lib/python3.12/site-packages/sklearn/utils/deprecation.py:132: FutureWarning: 'force_all_finite' was renamed to 'ensure_all_finite' in 1.6 and will be removed in 1.8.\n",
      "  warnings.warn(\n",
      "/Users/shane/Documents/MIT 2025-2026/Summer/15.066 System Optimization and Analysis for Operations/15066_final_project/.venv/lib/python3.12/site-packages/sklearn/utils/deprecation.py:132: FutureWarning: 'force_all_finite' was renamed to 'ensure_all_finite' in 1.6 and will be removed in 1.8.\n",
      "  warnings.warn(\n"
     ]
    },
    {
     "name": "stdout",
     "output_type": "stream",
     "text": [
      " ARIMA(1,0,0)(1,0,0)[52] intercept   : AIC=3700.667, Time=0.76 sec\n"
     ]
    },
    {
     "name": "stderr",
     "output_type": "stream",
     "text": [
      "/Users/shane/Documents/MIT 2025-2026/Summer/15.066 System Optimization and Analysis for Operations/15066_final_project/.venv/lib/python3.12/site-packages/sklearn/utils/deprecation.py:132: FutureWarning: 'force_all_finite' was renamed to 'ensure_all_finite' in 1.6 and will be removed in 1.8.\n",
      "  warnings.warn(\n"
     ]
    },
    {
     "name": "stdout",
     "output_type": "stream",
     "text": [
      " ARIMA(0,0,1)(0,0,1)[52] intercept   : AIC=3879.987, Time=0.73 sec\n",
      " ARIMA(0,0,0)(0,0,0)[52]             : AIC=5198.392, Time=0.00 sec\n"
     ]
    },
    {
     "name": "stderr",
     "output_type": "stream",
     "text": [
      "/Users/shane/Documents/MIT 2025-2026/Summer/15.066 System Optimization and Analysis for Operations/15066_final_project/.venv/lib/python3.12/site-packages/sklearn/utils/deprecation.py:132: FutureWarning: 'force_all_finite' was renamed to 'ensure_all_finite' in 1.6 and will be removed in 1.8.\n",
      "  warnings.warn(\n",
      "/Users/shane/Documents/MIT 2025-2026/Summer/15.066 System Optimization and Analysis for Operations/15066_final_project/.venv/lib/python3.12/site-packages/sklearn/utils/deprecation.py:132: FutureWarning: 'force_all_finite' was renamed to 'ensure_all_finite' in 1.6 and will be removed in 1.8.\n",
      "  warnings.warn(\n"
     ]
    },
    {
     "name": "stdout",
     "output_type": "stream",
     "text": [
      " ARIMA(2,0,2)(0,0,1)[52] intercept   : AIC=3696.890, Time=1.55 sec\n"
     ]
    },
    {
     "name": "stderr",
     "output_type": "stream",
     "text": [
      "/Users/shane/Documents/MIT 2025-2026/Summer/15.066 System Optimization and Analysis for Operations/15066_final_project/.venv/lib/python3.12/site-packages/sklearn/utils/deprecation.py:132: FutureWarning: 'force_all_finite' was renamed to 'ensure_all_finite' in 1.6 and will be removed in 1.8.\n",
      "  warnings.warn(\n"
     ]
    },
    {
     "name": "stdout",
     "output_type": "stream",
     "text": [
      " ARIMA(2,0,2)(1,0,0)[52] intercept   : AIC=inf, Time=2.06 sec\n"
     ]
    },
    {
     "name": "stderr",
     "output_type": "stream",
     "text": [
      "/Users/shane/Documents/MIT 2025-2026/Summer/15.066 System Optimization and Analysis for Operations/15066_final_project/.venv/lib/python3.12/site-packages/sklearn/utils/deprecation.py:132: FutureWarning: 'force_all_finite' was renamed to 'ensure_all_finite' in 1.6 and will be removed in 1.8.\n",
      "  warnings.warn(\n"
     ]
    },
    {
     "name": "stdout",
     "output_type": "stream",
     "text": [
      " ARIMA(2,0,2)(2,0,1)[52] intercept   : AIC=3692.127, Time=9.77 sec\n"
     ]
    },
    {
     "name": "stderr",
     "output_type": "stream",
     "text": [
      "/Users/shane/Documents/MIT 2025-2026/Summer/15.066 System Optimization and Analysis for Operations/15066_final_project/.venv/lib/python3.12/site-packages/sklearn/utils/deprecation.py:132: FutureWarning: 'force_all_finite' was renamed to 'ensure_all_finite' in 1.6 and will be removed in 1.8.\n",
      "  warnings.warn(\n"
     ]
    },
    {
     "name": "stdout",
     "output_type": "stream",
     "text": [
      " ARIMA(2,0,2)(2,0,0)[52] intercept   : AIC=inf, Time=14.42 sec\n"
     ]
    },
    {
     "name": "stderr",
     "output_type": "stream",
     "text": [
      "/Users/shane/Documents/MIT 2025-2026/Summer/15.066 System Optimization and Analysis for Operations/15066_final_project/.venv/lib/python3.12/site-packages/sklearn/utils/deprecation.py:132: FutureWarning: 'force_all_finite' was renamed to 'ensure_all_finite' in 1.6 and will be removed in 1.8.\n",
      "  warnings.warn(\n"
     ]
    },
    {
     "name": "stdout",
     "output_type": "stream",
     "text": [
      " ARIMA(2,0,2)(2,0,2)[52] intercept   : AIC=inf, Time=12.42 sec\n"
     ]
    },
    {
     "name": "stderr",
     "output_type": "stream",
     "text": [
      "/Users/shane/Documents/MIT 2025-2026/Summer/15.066 System Optimization and Analysis for Operations/15066_final_project/.venv/lib/python3.12/site-packages/sklearn/utils/deprecation.py:132: FutureWarning: 'force_all_finite' was renamed to 'ensure_all_finite' in 1.6 and will be removed in 1.8.\n",
      "  warnings.warn(\n"
     ]
    },
    {
     "name": "stdout",
     "output_type": "stream",
     "text": [
      " ARIMA(2,0,2)(1,0,2)[52] intercept   : AIC=3691.922, Time=11.42 sec\n"
     ]
    },
    {
     "name": "stderr",
     "output_type": "stream",
     "text": [
      "/Users/shane/Documents/MIT 2025-2026/Summer/15.066 System Optimization and Analysis for Operations/15066_final_project/.venv/lib/python3.12/site-packages/sklearn/utils/deprecation.py:132: FutureWarning: 'force_all_finite' was renamed to 'ensure_all_finite' in 1.6 and will be removed in 1.8.\n",
      "  warnings.warn(\n"
     ]
    },
    {
     "name": "stdout",
     "output_type": "stream",
     "text": [
      " ARIMA(2,0,2)(0,0,2)[52] intercept   : AIC=3693.795, Time=6.12 sec\n"
     ]
    },
    {
     "name": "stderr",
     "output_type": "stream",
     "text": [
      "/Users/shane/Documents/MIT 2025-2026/Summer/15.066 System Optimization and Analysis for Operations/15066_final_project/.venv/lib/python3.12/site-packages/sklearn/utils/deprecation.py:132: FutureWarning: 'force_all_finite' was renamed to 'ensure_all_finite' in 1.6 and will be removed in 1.8.\n",
      "  warnings.warn(\n"
     ]
    },
    {
     "name": "stdout",
     "output_type": "stream",
     "text": [
      " ARIMA(1,0,2)(1,0,2)[52] intercept   : AIC=3692.059, Time=6.57 sec\n"
     ]
    },
    {
     "name": "stderr",
     "output_type": "stream",
     "text": [
      "/Users/shane/Documents/MIT 2025-2026/Summer/15.066 System Optimization and Analysis for Operations/15066_final_project/.venv/lib/python3.12/site-packages/sklearn/utils/deprecation.py:132: FutureWarning: 'force_all_finite' was renamed to 'ensure_all_finite' in 1.6 and will be removed in 1.8.\n",
      "  warnings.warn(\n"
     ]
    },
    {
     "name": "stdout",
     "output_type": "stream",
     "text": [
      " ARIMA(2,0,1)(1,0,2)[52] intercept   : AIC=3691.039, Time=8.04 sec\n"
     ]
    },
    {
     "name": "stderr",
     "output_type": "stream",
     "text": [
      "/Users/shane/Documents/MIT 2025-2026/Summer/15.066 System Optimization and Analysis for Operations/15066_final_project/.venv/lib/python3.12/site-packages/sklearn/utils/deprecation.py:132: FutureWarning: 'force_all_finite' was renamed to 'ensure_all_finite' in 1.6 and will be removed in 1.8.\n",
      "  warnings.warn(\n"
     ]
    },
    {
     "name": "stdout",
     "output_type": "stream",
     "text": [
      " ARIMA(2,0,1)(0,0,2)[52] intercept   : AIC=3692.305, Time=3.91 sec\n"
     ]
    },
    {
     "name": "stderr",
     "output_type": "stream",
     "text": [
      "/Users/shane/Documents/MIT 2025-2026/Summer/15.066 System Optimization and Analysis for Operations/15066_final_project/.venv/lib/python3.12/site-packages/sklearn/utils/deprecation.py:132: FutureWarning: 'force_all_finite' was renamed to 'ensure_all_finite' in 1.6 and will be removed in 1.8.\n",
      "  warnings.warn(\n"
     ]
    },
    {
     "name": "stdout",
     "output_type": "stream",
     "text": [
      " ARIMA(2,0,1)(1,0,1)[52] intercept   : AIC=3694.044, Time=2.38 sec\n"
     ]
    },
    {
     "name": "stderr",
     "output_type": "stream",
     "text": [
      "/Users/shane/Documents/MIT 2025-2026/Summer/15.066 System Optimization and Analysis for Operations/15066_final_project/.venv/lib/python3.12/site-packages/sklearn/utils/deprecation.py:132: FutureWarning: 'force_all_finite' was renamed to 'ensure_all_finite' in 1.6 and will be removed in 1.8.\n",
      "  warnings.warn(\n"
     ]
    },
    {
     "name": "stdout",
     "output_type": "stream",
     "text": [
      " ARIMA(2,0,1)(2,0,2)[52] intercept   : AIC=inf, Time=9.54 sec\n"
     ]
    },
    {
     "name": "stderr",
     "output_type": "stream",
     "text": [
      "/Users/shane/Documents/MIT 2025-2026/Summer/15.066 System Optimization and Analysis for Operations/15066_final_project/.venv/lib/python3.12/site-packages/sklearn/utils/deprecation.py:132: FutureWarning: 'force_all_finite' was renamed to 'ensure_all_finite' in 1.6 and will be removed in 1.8.\n",
      "  warnings.warn(\n"
     ]
    },
    {
     "name": "stdout",
     "output_type": "stream",
     "text": [
      " ARIMA(2,0,1)(0,0,1)[52] intercept   : AIC=3695.852, Time=0.99 sec\n"
     ]
    },
    {
     "name": "stderr",
     "output_type": "stream",
     "text": [
      "/Users/shane/Documents/MIT 2025-2026/Summer/15.066 System Optimization and Analysis for Operations/15066_final_project/.venv/lib/python3.12/site-packages/sklearn/utils/deprecation.py:132: FutureWarning: 'force_all_finite' was renamed to 'ensure_all_finite' in 1.6 and will be removed in 1.8.\n",
      "  warnings.warn(\n"
     ]
    },
    {
     "name": "stdout",
     "output_type": "stream",
     "text": [
      " ARIMA(2,0,1)(2,0,1)[52] intercept   : AIC=3691.181, Time=7.25 sec\n"
     ]
    },
    {
     "name": "stderr",
     "output_type": "stream",
     "text": [
      "/Users/shane/Documents/MIT 2025-2026/Summer/15.066 System Optimization and Analysis for Operations/15066_final_project/.venv/lib/python3.12/site-packages/sklearn/utils/deprecation.py:132: FutureWarning: 'force_all_finite' was renamed to 'ensure_all_finite' in 1.6 and will be removed in 1.8.\n",
      "  warnings.warn(\n"
     ]
    },
    {
     "name": "stdout",
     "output_type": "stream",
     "text": [
      " ARIMA(1,0,1)(1,0,2)[52] intercept   : AIC=3690.195, Time=5.56 sec\n"
     ]
    },
    {
     "name": "stderr",
     "output_type": "stream",
     "text": [
      "/Users/shane/Documents/MIT 2025-2026/Summer/15.066 System Optimization and Analysis for Operations/15066_final_project/.venv/lib/python3.12/site-packages/sklearn/utils/deprecation.py:132: FutureWarning: 'force_all_finite' was renamed to 'ensure_all_finite' in 1.6 and will be removed in 1.8.\n",
      "  warnings.warn(\n"
     ]
    },
    {
     "name": "stdout",
     "output_type": "stream",
     "text": [
      " ARIMA(1,0,1)(0,0,2)[52] intercept   : AIC=3690.373, Time=2.49 sec\n"
     ]
    },
    {
     "name": "stderr",
     "output_type": "stream",
     "text": [
      "/Users/shane/Documents/MIT 2025-2026/Summer/15.066 System Optimization and Analysis for Operations/15066_final_project/.venv/lib/python3.12/site-packages/sklearn/utils/deprecation.py:132: FutureWarning: 'force_all_finite' was renamed to 'ensure_all_finite' in 1.6 and will be removed in 1.8.\n",
      "  warnings.warn(\n"
     ]
    },
    {
     "name": "stdout",
     "output_type": "stream",
     "text": [
      " ARIMA(1,0,1)(1,0,1)[52] intercept   : AIC=3695.046, Time=1.32 sec\n"
     ]
    },
    {
     "name": "stderr",
     "output_type": "stream",
     "text": [
      "/Users/shane/Documents/MIT 2025-2026/Summer/15.066 System Optimization and Analysis for Operations/15066_final_project/.venv/lib/python3.12/site-packages/sklearn/utils/deprecation.py:132: FutureWarning: 'force_all_finite' was renamed to 'ensure_all_finite' in 1.6 and will be removed in 1.8.\n",
      "  warnings.warn(\n"
     ]
    },
    {
     "name": "stdout",
     "output_type": "stream",
     "text": [
      " ARIMA(1,0,1)(2,0,2)[52] intercept   : AIC=inf, Time=8.80 sec\n"
     ]
    },
    {
     "name": "stderr",
     "output_type": "stream",
     "text": [
      "/Users/shane/Documents/MIT 2025-2026/Summer/15.066 System Optimization and Analysis for Operations/15066_final_project/.venv/lib/python3.12/site-packages/sklearn/utils/deprecation.py:132: FutureWarning: 'force_all_finite' was renamed to 'ensure_all_finite' in 1.6 and will be removed in 1.8.\n",
      "  warnings.warn(\n"
     ]
    },
    {
     "name": "stdout",
     "output_type": "stream",
     "text": [
      " ARIMA(1,0,1)(0,0,1)[52] intercept   : AIC=3694.401, Time=0.40 sec\n"
     ]
    },
    {
     "name": "stderr",
     "output_type": "stream",
     "text": [
      "/Users/shane/Documents/MIT 2025-2026/Summer/15.066 System Optimization and Analysis for Operations/15066_final_project/.venv/lib/python3.12/site-packages/sklearn/utils/deprecation.py:132: FutureWarning: 'force_all_finite' was renamed to 'ensure_all_finite' in 1.6 and will be removed in 1.8.\n",
      "  warnings.warn(\n"
     ]
    },
    {
     "name": "stdout",
     "output_type": "stream",
     "text": [
      " ARIMA(1,0,1)(2,0,1)[52] intercept   : AIC=3690.332, Time=5.98 sec\n"
     ]
    },
    {
     "name": "stderr",
     "output_type": "stream",
     "text": [
      "/Users/shane/Documents/MIT 2025-2026/Summer/15.066 System Optimization and Analysis for Operations/15066_final_project/.venv/lib/python3.12/site-packages/sklearn/utils/deprecation.py:132: FutureWarning: 'force_all_finite' was renamed to 'ensure_all_finite' in 1.6 and will be removed in 1.8.\n",
      "  warnings.warn(\n"
     ]
    },
    {
     "name": "stdout",
     "output_type": "stream",
     "text": [
      " ARIMA(0,0,1)(1,0,2)[52] intercept   : AIC=inf, Time=7.23 sec\n"
     ]
    },
    {
     "name": "stderr",
     "output_type": "stream",
     "text": [
      "/Users/shane/Documents/MIT 2025-2026/Summer/15.066 System Optimization and Analysis for Operations/15066_final_project/.venv/lib/python3.12/site-packages/sklearn/utils/deprecation.py:132: FutureWarning: 'force_all_finite' was renamed to 'ensure_all_finite' in 1.6 and will be removed in 1.8.\n",
      "  warnings.warn(\n"
     ]
    },
    {
     "name": "stdout",
     "output_type": "stream",
     "text": [
      " ARIMA(1,0,0)(1,0,2)[52] intercept   : AIC=3697.948, Time=2.58 sec\n"
     ]
    },
    {
     "name": "stderr",
     "output_type": "stream",
     "text": [
      "/Users/shane/Documents/MIT 2025-2026/Summer/15.066 System Optimization and Analysis for Operations/15066_final_project/.venv/lib/python3.12/site-packages/sklearn/utils/deprecation.py:132: FutureWarning: 'force_all_finite' was renamed to 'ensure_all_finite' in 1.6 and will be removed in 1.8.\n",
      "  warnings.warn(\n"
     ]
    },
    {
     "name": "stdout",
     "output_type": "stream",
     "text": [
      " ARIMA(0,0,0)(1,0,2)[52] intercept   : AIC=inf, Time=5.10 sec\n"
     ]
    },
    {
     "name": "stderr",
     "output_type": "stream",
     "text": [
      "/Users/shane/Documents/MIT 2025-2026/Summer/15.066 System Optimization and Analysis for Operations/15066_final_project/.venv/lib/python3.12/site-packages/sklearn/utils/deprecation.py:132: FutureWarning: 'force_all_finite' was renamed to 'ensure_all_finite' in 1.6 and will be removed in 1.8.\n",
      "  warnings.warn(\n"
     ]
    },
    {
     "name": "stdout",
     "output_type": "stream",
     "text": [
      " ARIMA(0,0,2)(1,0,2)[52] intercept   : AIC=inf, Time=9.13 sec\n"
     ]
    },
    {
     "name": "stderr",
     "output_type": "stream",
     "text": [
      "/Users/shane/Documents/MIT 2025-2026/Summer/15.066 System Optimization and Analysis for Operations/15066_final_project/.venv/lib/python3.12/site-packages/sklearn/utils/deprecation.py:132: FutureWarning: 'force_all_finite' was renamed to 'ensure_all_finite' in 1.6 and will be removed in 1.8.\n",
      "  warnings.warn(\n"
     ]
    },
    {
     "name": "stdout",
     "output_type": "stream",
     "text": [
      " ARIMA(2,0,0)(1,0,2)[52] intercept   : AIC=3689.265, Time=5.89 sec\n"
     ]
    },
    {
     "name": "stderr",
     "output_type": "stream",
     "text": [
      "/Users/shane/Documents/MIT 2025-2026/Summer/15.066 System Optimization and Analysis for Operations/15066_final_project/.venv/lib/python3.12/site-packages/sklearn/utils/deprecation.py:132: FutureWarning: 'force_all_finite' was renamed to 'ensure_all_finite' in 1.6 and will be removed in 1.8.\n",
      "  warnings.warn(\n"
     ]
    },
    {
     "name": "stdout",
     "output_type": "stream",
     "text": [
      " ARIMA(2,0,0)(0,0,2)[52] intercept   : AIC=3691.416, Time=3.11 sec\n"
     ]
    },
    {
     "name": "stderr",
     "output_type": "stream",
     "text": [
      "/Users/shane/Documents/MIT 2025-2026/Summer/15.066 System Optimization and Analysis for Operations/15066_final_project/.venv/lib/python3.12/site-packages/sklearn/utils/deprecation.py:132: FutureWarning: 'force_all_finite' was renamed to 'ensure_all_finite' in 1.6 and will be removed in 1.8.\n",
      "  warnings.warn(\n"
     ]
    },
    {
     "name": "stdout",
     "output_type": "stream",
     "text": [
      " ARIMA(2,0,0)(1,0,1)[52] intercept   : AIC=3692.832, Time=1.47 sec\n"
     ]
    },
    {
     "name": "stderr",
     "output_type": "stream",
     "text": [
      "/Users/shane/Documents/MIT 2025-2026/Summer/15.066 System Optimization and Analysis for Operations/15066_final_project/.venv/lib/python3.12/site-packages/sklearn/utils/deprecation.py:132: FutureWarning: 'force_all_finite' was renamed to 'ensure_all_finite' in 1.6 and will be removed in 1.8.\n",
      "  warnings.warn(\n"
     ]
    },
    {
     "name": "stdout",
     "output_type": "stream",
     "text": [
      " ARIMA(2,0,0)(2,0,2)[52] intercept   : AIC=inf, Time=9.07 sec\n"
     ]
    },
    {
     "name": "stderr",
     "output_type": "stream",
     "text": [
      "/Users/shane/Documents/MIT 2025-2026/Summer/15.066 System Optimization and Analysis for Operations/15066_final_project/.venv/lib/python3.12/site-packages/sklearn/utils/deprecation.py:132: FutureWarning: 'force_all_finite' was renamed to 'ensure_all_finite' in 1.6 and will be removed in 1.8.\n",
      "  warnings.warn(\n"
     ]
    },
    {
     "name": "stdout",
     "output_type": "stream",
     "text": [
      " ARIMA(2,0,0)(0,0,1)[52] intercept   : AIC=3694.279, Time=0.43 sec\n"
     ]
    },
    {
     "name": "stderr",
     "output_type": "stream",
     "text": [
      "/Users/shane/Documents/MIT 2025-2026/Summer/15.066 System Optimization and Analysis for Operations/15066_final_project/.venv/lib/python3.12/site-packages/sklearn/utils/deprecation.py:132: FutureWarning: 'force_all_finite' was renamed to 'ensure_all_finite' in 1.6 and will be removed in 1.8.\n",
      "  warnings.warn(\n"
     ]
    },
    {
     "name": "stdout",
     "output_type": "stream",
     "text": [
      " ARIMA(2,0,0)(2,0,1)[52] intercept   : AIC=3689.401, Time=5.70 sec\n"
     ]
    },
    {
     "name": "stderr",
     "output_type": "stream",
     "text": [
      "/Users/shane/Documents/MIT 2025-2026/Summer/15.066 System Optimization and Analysis for Operations/15066_final_project/.venv/lib/python3.12/site-packages/sklearn/utils/deprecation.py:132: FutureWarning: 'force_all_finite' was renamed to 'ensure_all_finite' in 1.6 and will be removed in 1.8.\n",
      "  warnings.warn(\n"
     ]
    },
    {
     "name": "stdout",
     "output_type": "stream",
     "text": [
      " ARIMA(3,0,0)(1,0,2)[52] intercept   : AIC=3689.413, Time=7.76 sec\n"
     ]
    },
    {
     "name": "stderr",
     "output_type": "stream",
     "text": [
      "/Users/shane/Documents/MIT 2025-2026/Summer/15.066 System Optimization and Analysis for Operations/15066_final_project/.venv/lib/python3.12/site-packages/sklearn/utils/deprecation.py:132: FutureWarning: 'force_all_finite' was renamed to 'ensure_all_finite' in 1.6 and will be removed in 1.8.\n",
      "  warnings.warn(\n"
     ]
    },
    {
     "name": "stdout",
     "output_type": "stream",
     "text": [
      " ARIMA(3,0,1)(1,0,2)[52] intercept   : AIC=3688.279, Time=10.09 sec\n"
     ]
    },
    {
     "name": "stderr",
     "output_type": "stream",
     "text": [
      "/Users/shane/Documents/MIT 2025-2026/Summer/15.066 System Optimization and Analysis for Operations/15066_final_project/.venv/lib/python3.12/site-packages/sklearn/utils/deprecation.py:132: FutureWarning: 'force_all_finite' was renamed to 'ensure_all_finite' in 1.6 and will be removed in 1.8.\n",
      "  warnings.warn(\n"
     ]
    },
    {
     "name": "stdout",
     "output_type": "stream",
     "text": [
      " ARIMA(3,0,1)(0,0,2)[52] intercept   : AIC=3694.242, Time=5.57 sec\n"
     ]
    },
    {
     "name": "stderr",
     "output_type": "stream",
     "text": [
      "/Users/shane/Documents/MIT 2025-2026/Summer/15.066 System Optimization and Analysis for Operations/15066_final_project/.venv/lib/python3.12/site-packages/sklearn/utils/deprecation.py:132: FutureWarning: 'force_all_finite' was renamed to 'ensure_all_finite' in 1.6 and will be removed in 1.8.\n",
      "  warnings.warn(\n"
     ]
    },
    {
     "name": "stdout",
     "output_type": "stream",
     "text": [
      " ARIMA(3,0,1)(1,0,1)[52] intercept   : AIC=3690.677, Time=2.63 sec\n"
     ]
    },
    {
     "name": "stderr",
     "output_type": "stream",
     "text": [
      "/Users/shane/Documents/MIT 2025-2026/Summer/15.066 System Optimization and Analysis for Operations/15066_final_project/.venv/lib/python3.12/site-packages/sklearn/utils/deprecation.py:132: FutureWarning: 'force_all_finite' was renamed to 'ensure_all_finite' in 1.6 and will be removed in 1.8.\n",
      "  warnings.warn(\n"
     ]
    },
    {
     "name": "stdout",
     "output_type": "stream",
     "text": [
      " ARIMA(3,0,1)(2,0,2)[52] intercept   : AIC=inf, Time=11.61 sec\n"
     ]
    },
    {
     "name": "stderr",
     "output_type": "stream",
     "text": [
      "/Users/shane/Documents/MIT 2025-2026/Summer/15.066 System Optimization and Analysis for Operations/15066_final_project/.venv/lib/python3.12/site-packages/sklearn/utils/deprecation.py:132: FutureWarning: 'force_all_finite' was renamed to 'ensure_all_finite' in 1.6 and will be removed in 1.8.\n",
      "  warnings.warn(\n"
     ]
    },
    {
     "name": "stdout",
     "output_type": "stream",
     "text": [
      " ARIMA(3,0,1)(0,0,1)[52] intercept   : AIC=3697.671, Time=1.48 sec\n"
     ]
    },
    {
     "name": "stderr",
     "output_type": "stream",
     "text": [
      "/Users/shane/Documents/MIT 2025-2026/Summer/15.066 System Optimization and Analysis for Operations/15066_final_project/.venv/lib/python3.12/site-packages/sklearn/utils/deprecation.py:132: FutureWarning: 'force_all_finite' was renamed to 'ensure_all_finite' in 1.6 and will be removed in 1.8.\n",
      "  warnings.warn(\n"
     ]
    },
    {
     "name": "stdout",
     "output_type": "stream",
     "text": [
      " ARIMA(3,0,1)(2,0,1)[52] intercept   : AIC=3688.599, Time=10.66 sec\n"
     ]
    },
    {
     "name": "stderr",
     "output_type": "stream",
     "text": [
      "/Users/shane/Documents/MIT 2025-2026/Summer/15.066 System Optimization and Analysis for Operations/15066_final_project/.venv/lib/python3.12/site-packages/sklearn/utils/deprecation.py:132: FutureWarning: 'force_all_finite' was renamed to 'ensure_all_finite' in 1.6 and will be removed in 1.8.\n",
      "  warnings.warn(\n"
     ]
    },
    {
     "name": "stdout",
     "output_type": "stream",
     "text": [
      " ARIMA(4,0,1)(1,0,2)[52] intercept   : AIC=3691.829, Time=10.94 sec\n"
     ]
    },
    {
     "name": "stderr",
     "output_type": "stream",
     "text": [
      "/Users/shane/Documents/MIT 2025-2026/Summer/15.066 System Optimization and Analysis for Operations/15066_final_project/.venv/lib/python3.12/site-packages/sklearn/utils/deprecation.py:132: FutureWarning: 'force_all_finite' was renamed to 'ensure_all_finite' in 1.6 and will be removed in 1.8.\n",
      "  warnings.warn(\n"
     ]
    },
    {
     "name": "stdout",
     "output_type": "stream",
     "text": [
      " ARIMA(3,0,2)(1,0,2)[52] intercept   : AIC=3690.079, Time=11.00 sec\n"
     ]
    },
    {
     "name": "stderr",
     "output_type": "stream",
     "text": [
      "/Users/shane/Documents/MIT 2025-2026/Summer/15.066 System Optimization and Analysis for Operations/15066_final_project/.venv/lib/python3.12/site-packages/sklearn/utils/deprecation.py:132: FutureWarning: 'force_all_finite' was renamed to 'ensure_all_finite' in 1.6 and will be removed in 1.8.\n",
      "  warnings.warn(\n"
     ]
    },
    {
     "name": "stdout",
     "output_type": "stream",
     "text": [
      " ARIMA(4,0,0)(1,0,2)[52] intercept   : AIC=3690.576, Time=8.13 sec\n"
     ]
    },
    {
     "name": "stderr",
     "output_type": "stream",
     "text": [
      "/Users/shane/Documents/MIT 2025-2026/Summer/15.066 System Optimization and Analysis for Operations/15066_final_project/.venv/lib/python3.12/site-packages/sklearn/utils/deprecation.py:132: FutureWarning: 'force_all_finite' was renamed to 'ensure_all_finite' in 1.6 and will be removed in 1.8.\n",
      "  warnings.warn(\n"
     ]
    },
    {
     "name": "stdout",
     "output_type": "stream",
     "text": [
      " ARIMA(4,0,2)(1,0,2)[52] intercept   : AIC=3690.998, Time=13.41 sec\n"
     ]
    },
    {
     "name": "stderr",
     "output_type": "stream",
     "text": [
      "/Users/shane/Documents/MIT 2025-2026/Summer/15.066 System Optimization and Analysis for Operations/15066_final_project/.venv/lib/python3.12/site-packages/sklearn/utils/deprecation.py:132: FutureWarning: 'force_all_finite' was renamed to 'ensure_all_finite' in 1.6 and will be removed in 1.8.\n",
      "  warnings.warn(\n"
     ]
    },
    {
     "name": "stdout",
     "output_type": "stream",
     "text": [
      " ARIMA(3,0,1)(1,0,2)[52]             : AIC=inf, Time=8.76 sec\n",
      "\n",
      "Best model:  ARIMA(3,0,1)(1,0,2)[52] intercept\n",
      "Total fit time: 277.217 seconds\n",
      "                                        SARIMAX Results                                        \n",
      "===============================================================================================\n",
      "Dep. Variable:                                       y   No. Observations:                  266\n",
      "Model:             SARIMAX(3, 0, 1)x(1, 0, [1, 2], 52)   Log Likelihood               -1835.140\n",
      "Date:                                 Sun, 03 Aug 2025   AIC                           3688.279\n",
      "Time:                                         21:33:22   BIC                           3720.531\n",
      "Sample:                                              0   HQIC                          3701.236\n",
      "                                                 - 266                                         \n",
      "Covariance Type:                                   opg                                         \n",
      "==============================================================================\n",
      "                 coef    std err          z      P>|z|      [0.025      0.975]\n",
      "------------------------------------------------------------------------------\n",
      "intercept    354.8108    252.280      1.406      0.160    -139.649     849.270\n",
      "ar.L1          0.1177      0.487      0.242      0.809      -0.836       1.072\n",
      "ar.L2          0.4570      0.335      1.365      0.172      -0.199       1.113\n",
      "ar.L3          0.1917      0.082      2.349      0.019       0.032       0.352\n",
      "ma.L1          0.5123      0.504      1.017      0.309      -0.475       1.500\n",
      "ar.S.L52       0.6381      0.207      3.088      0.002       0.233       1.043\n",
      "ma.S.L52      -0.4910      0.209     -2.355      0.019      -0.900      -0.082\n",
      "ma.S.L104      0.1677      0.110      1.528      0.127      -0.047       0.383\n",
      "sigma2      5.497e+04   3472.816     15.828      0.000    4.82e+04    6.18e+04\n",
      "===================================================================================\n",
      "Ljung-Box (L1) (Q):                   0.01   Jarque-Bera (JB):               143.88\n",
      "Prob(Q):                              0.93   Prob(JB):                         0.00\n",
      "Heteroskedasticity (H):               1.15   Skew:                             0.91\n",
      "Prob(H) (two-sided):                  0.50   Kurtosis:                         6.10\n",
      "===================================================================================\n",
      "\n",
      "Warnings:\n",
      "[1] Covariance matrix calculated using the outer product of gradients (complex-step).\n",
      "8.106617841319542\n"
     ]
    },
    {
     "name": "stderr",
     "output_type": "stream",
     "text": [
      "/Users/shane/Documents/MIT 2025-2026/Summer/15.066 System Optimization and Analysis for Operations/15066_final_project/.venv/lib/python3.12/site-packages/sklearn/utils/deprecation.py:132: FutureWarning: 'force_all_finite' was renamed to 'ensure_all_finite' in 1.6 and will be removed in 1.8.\n",
      "  warnings.warn(\n"
     ]
    },
    {
     "data": {
      "image/png": "[encoded data removed]",
      "text/plain": [
       "<Figure size 1200x600 with 2 Axes>"
      ]
     },
     "metadata": {},
     "output_type": "display_data"
    }
   ],
   "source": [
    "# Fit an auto_arima model to the load training data\n",
    "load_arima_model = auto_arima(\n",
    "    load_train[\"CAISO_Load_GWh\"],\n",
    "    seasonal=True,\n",
    "    m=52,\n",
    "    trace=True,\n",
    "    error_action='ignore',\n",
    "    suppress_warnings=True\n",
    ")\n",
    "print(load_arima_model.summary())\n",
    "predicted_load = load_arima_model.predict(n_periods=len(load_test))\n",
    "actual_load = load_test['CAISO_Load_GWh']\n",
    "mape_load = calculate_mape(actual_load, predicted_load)\n",
    "print(mape_load)\n",
    "# Create two separate plots for actual and predicted load data\n",
    "fig, axes = plt.subplots(2, 1, figsize=(12, 6))\n",
    "\n",
    "# Actual load data plot\n",
    "axes[0].plot(load_test['Week_Start'], actual_load, color='blue')\n",
    "axes[0].set_xlabel('Date')\n",
    "axes[0].set_ylabel('CAISO Load (MWh)')\n",
    "axes[0].set_title('Actual CAISO Load')\n",
    "\n",
    "# Predicted load data plot\n",
    "axes[1].plot(load_test['Week_Start'], predicted_load, color='orange')\n",
    "axes[1].set_xlabel('Date')\n",
    "axes[1].set_ylabel('Predicted CAISO Load (MWh)')\n",
    "axes[1].set_title('Predicted CAISO Load')\n",
    "\n",
    "plt.tight_layout()\n",
    "plt.show()\n"
   ]
  },
  {
   "cell_type": "code",
   "execution_count": 32,
   "id": "fd8b5952",
   "metadata": {},
   "outputs": [],
   "source": [
    "import pickle\n",
    "\n",
    "# Save the ARIMA models to files\n",
    "with open('load_arima_model.pkl', 'wb') as f:\n",
    "    pickle.dump(load_arima_model, f)"
   ]
  },
  {
   "cell_type": "code",
   "execution_count": null,
   "id": "f6c52821",
   "metadata": {},
   "outputs": [],
   "source": []
  }
 ],
 "metadata": {
  "kernelspec": {
   "display_name": ".venv",
   "language": "python",
   "name": "python3"
  },
  "language_info": {
   "codemirror_mode": {
    "name": "ipython",
    "version": 3
   },
   "file_extension": ".py",
   "mimetype": "text/x-python",
   "name": "python",
   "nbconvert_exporter": "python",
   "pygments_lexer": "ipython3",
   "version": "3.12.11"
  }
 },
 "nbformat": 4,
 "nbformat_minor": 5
}
