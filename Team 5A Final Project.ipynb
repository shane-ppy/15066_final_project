{
 "cells": [
  {
   "cell_type": "markdown",
   "metadata": {},
   "source": [
    "# 15.066 Summer 2025\n",
    "## System Optimization and Analysis for Operations\n",
    "### final Project - Group 5A\n",
    "---\n",
    "Grayson Adams, Shane Pornprinya, Becca Sholler\n",
    "\n",
    "---"
   ]
  },
  {
   "cell_type": "markdown",
   "metadata": {},
   "source": [
    "## Load Packages"
   ]
  },
  {
   "cell_type": "code",
   "execution_count": 293,
   "metadata": {},
   "outputs": [],
   "source": [
    "import gurobipy as gp\n",
    "from gurobipy import GRB\n",
    "import pandas as pd\n",
    "import numpy as np\n",
    "import matplotlib.pyplot as plt\n",
    "# from project_data import *\n",
    "# %whos"
   ]
  },
  {
   "cell_type": "code",
   "execution_count": 294,
   "metadata": {},
   "outputs": [],
   "source": [
    "import numpy as np\n",
    "import os, pathlib\n",
    "import pandas as pd\n",
    "FILE_DIR = os.getcwd()\n",
    "\n",
    "# Fuel Types\n",
    "FUEL = ['coal', 'NGCC', 'nuclear', 'hydro', 'wind', 'solar', 'ev']\n",
    "\n",
    "# Carbon Emission in gCO2e per kWh for each fuel type\n",
    "E = np.array([820, 490, 12, 24, 11.5, 44.5, 0,])\n",
    "\n",
    "# LCOE in $/kWh for each fuel type from AEO2023\n",
    "C = np.array([89.33, 42.72, 71.00, 57.12, 31.07, 23.22, 36.27])/1e3\n",
    "\n",
    "# Number of fuel types\n",
    "NUMFT = len(E)\n",
    "\n",
    "# State level data on population, energy demand, current co2 emissions from electricity\n",
    "FNAME = os.path.join(FILE_DIR, \"StateData.xlsx\")\n",
    "STATES = pd.read_excel(FNAME, sheet_name=\"StateData\", index_col=0, header=0)\n",
    "\n",
    "# EV Capacity (avg) in kWh\n",
    "EVC_MAX = 80\n",
    "\n",
    "# Daily EV energy usage in kWh\n",
    "EVC_MIN = 5*11106/3.5/365 # safety factor * avg annual miles / avg miles/kWh / days per year \n",
    "\n",
    "# Population (of the county)\n",
    "# FNAME = os.path.join(FILE_DIR, \"EVs.csv\") # TODO fix filename\n",
    "# EVS = pd.read_csv(FNAME, dtype={'county': str, 'population': float, 'numEV': float})\n",
    "# EVS['EVB_maxcapacity'] = EVS['numEV'] * EVC_MAX\n",
    "# EVS['EVB_mincapacity'] = EVS['numEV'] * EVC_MIN\n",
    "\n",
    "### Approach 1\n",
    "MAXGEN = [.85, .87, .9, .56, .4, .29, 0] #TODO, Using capacity factor, but does that just represent uptime and we need actual capacity\n",
    "MINGEN = [0, 0, .25, 0, 0, 0, 0,] #TODO, should be expressed as a minimum kWh number??\n",
    "# TODO how to account for these going up with EV bank capacity? constrain dec vars for these three + ev bank to their sum, also individual constrs\n",
    "\n",
    "### Approach 3\n",
    "HRLYDEMAND = np.array([1, 1, 1, 1, 1, 1,\n",
    "                       1, 1, 1, 1, 1, 1,\n",
    "                       1, 1, 1, 1, 1, 1,\n",
    "                       1, 1, 1, 1, 1, 1,]) # TODO Real data, maybe normalized then multiply by DEMANDPC['<state>']\n",
    "HRLYMAXGEN = pd.DataFrame() # TODO 7x24 array, 1 and 2 are inf, others need research. Express as pct of demand so it can scale to county\n",
    "HRLYPRICE = pd.DataFrame() # TODO 7x24 array, most are constant. Units $/kWh"
   ]
  },
  {
   "cell_type": "code",
   "execution_count": 295,
   "metadata": {},
   "outputs": [],
   "source": [
    "# Set up Gurobi environment\n",
    "env = gp.Env(empty=True)\n",
    "env.setParam('OutputFlag', 0)\n",
    "env.start()\n",
    "\n",
    "# Initialize the model\n",
    "m = gp.Model(env=env)"
   ]
  },
  {
   "cell_type": "markdown",
   "metadata": {},
   "source": [
    "---\n",
    "## Optimization Case Details"
   ]
  },
  {
   "cell_type": "code",
   "execution_count": 296,
   "metadata": {},
   "outputs": [],
   "source": [
    "state = 'WA'\n",
    "futureDemandGrowth = 1.5 # Future electricity demand as pct of current\n",
    "TotalDemand = STATES['Demand (MWh)'][state]*1e3*futureDemandGrowth # convert to kwh\n",
    "futureCo2Improve = 0.5 # Future emissions target as pct of current\n",
    "LimitCO2 = STATES['CO2 Emissions (million metric tons)'][state]*1e12*futureCo2Improve #convert to gCO2e"
   ]
  },
  {
   "cell_type": "markdown",
   "metadata": {},
   "source": [
    "---\n",
    "## Decision Variables"
   ]
  },
  {
   "cell_type": "code",
   "execution_count": 297,
   "metadata": {},
   "outputs": [],
   "source": [
    "### Decision Variables ###\n",
    "\n",
    "## Continuous\n",
    "# A vector of qty of each fuel type\n",
    "F = m.addMVar(NUMFT, vtype=GRB.CONTINUOUS, name='Fuel') # For single day\n",
    "\n",
    "## Binary\n",
    "# Whether or not to use each fuel type (due to minimum generation constraints)\n",
    "X = m.addMVar(NUMFT, vtype=GRB.BINARY, lb=0) "
   ]
  },
  {
   "cell_type": "markdown",
   "metadata": {},
   "source": [
    "---\n",
    "## Objective Function"
   ]
  },
  {
   "cell_type": "code",
   "execution_count": 298,
   "metadata": {},
   "outputs": [],
   "source": [
    "# Objective function: minimize cost\n",
    "m.setObjective(gp.quicksum(F[i]*C[i] for i in range(NUMFT)),GRB.MINIMIZE)"
   ]
  },
  {
   "cell_type": "markdown",
   "metadata": {},
   "source": [
    "---\n",
    "## Constraints"
   ]
  },
  {
   "cell_type": "code",
   "execution_count": 299,
   "metadata": {},
   "outputs": [],
   "source": [
    "### Constraints ###\n",
    "# Total production must meet demand\n",
    "Const1 = m.addConstr(gp.quicksum(F[i] for i in range(NUMFT))>=TotalDemand, name='Const1')\n",
    "\n",
    "# Total CO2 emissions must be less than limit\n",
    "Const2 = m.addConstr(gp.quicksum(F[i]*E[i] for i in range(NUMFT))<=LimitCO2, name='Const2')\n",
    "\n",
    "# Generation is capacity limited\n",
    "Const3 = m.addConstrs(F[i] <= MAXGEN[i]*TotalDemand*X[i] for i in range(NUMFT))\n",
    "\n",
    "# Min generation requirements\n",
    "Const4 = m.addConstrs(F[i] >= MINGEN[i]*TotalDemand*X[i] for i in range(NUMFT))"
   ]
  },
  {
   "cell_type": "markdown",
   "metadata": {},
   "source": [
    "---\n",
    "## Solve"
   ]
  },
  {
   "cell_type": "code",
   "execution_count": 300,
   "metadata": {},
   "outputs": [],
   "source": [
    "# Update and write the model\n",
    "m.update() # Update model parameters\n",
    "m.write(\"15066_final_project_5A.lp\") # Write model to file\n",
    "m.optimize() # Solve"
   ]
  },
  {
   "cell_type": "code",
   "execution_count": 301,
   "metadata": {},
   "outputs": [
    {
     "name": "stdout",
     "output_type": "stream",
     "text": [
      "\n",
      "Objective value (total generation cost $): 4864531023\n",
      "\n",
      "Optimized avg retail price (cents/kWh): 3.62\n",
      "\n",
      "Current per capita generation cost (cents/kWh): 10.26\n"
     ]
    }
   ],
   "source": [
    "# Print optimal objective function value\n",
    "initObjVal = m.getAttr(\"ObjVal\")\n",
    "print(\"\\nObjective value (total generation cost $):\", \"%.0f\" % (initObjVal))\n",
    "optCost = initObjVal*100/TotalDemand\n",
    "print(\"\\nOptimized avg retail price (cents/kWh):\", \"%.2f\" % (optCost))\n",
    "currCost = STATES['Average retail price (cents/kWh)'][state]\n",
    "print(\"\\nCurrent per capita generation cost (cents/kWh):\", \"%.2f\" % (currCost))\n"
   ]
  },
  {
   "cell_type": "code",
   "execution_count": 302,
   "metadata": {},
   "outputs": [
    {
     "data": {
      "application/vnd.microsoft.datawrangler.viewer.v0+json": {
       "columns": [
        {
         "name": "index",
         "rawType": "object",
         "type": "string"
        },
        {
         "name": "MWh Generated",
         "rawType": "float64",
         "type": "float"
        },
        {
         "name": "Binding?",
         "rawType": "bool",
         "type": "boolean"
        }
       ],
       "ref": "c5e54438-3db3-471a-882e-5a94906183b9",
       "rows": [
        [
         "coal",
         "0.0",
         "False"
        ],
        [
         "NGCC",
         "6114087.0",
         "False"
        ],
        [
         "nuclear",
         "0.0",
         "False"
        ],
        [
         "hydro",
         "35527886.0",
         "False"
        ],
        [
         "wind",
         "53731578.0",
         "True"
        ],
        [
         "solar",
         "38955394.0",
         "True"
        ],
        [
         "ev",
         "0.0",
         "True"
        ]
       ],
       "shape": {
        "columns": 2,
        "rows": 7
       }
      },
      "text/html": [
       "<div>\n",
       "<style scoped>\n",
       "    .dataframe tbody tr th:only-of-type {\n",
       "        vertical-align: middle;\n",
       "    }\n",
       "\n",
       "    .dataframe tbody tr th {\n",
       "        vertical-align: top;\n",
       "    }\n",
       "\n",
       "    .dataframe thead th {\n",
       "        text-align: right;\n",
       "    }\n",
       "</style>\n",
       "<table border=\"1\" class=\"dataframe\">\n",
       "  <thead>\n",
       "    <tr style=\"text-align: right;\">\n",
       "      <th></th>\n",
       "      <th>MWh Generated</th>\n",
       "      <th>Binding?</th>\n",
       "    </tr>\n",
       "  </thead>\n",
       "  <tbody>\n",
       "    <tr>\n",
       "      <th>coal</th>\n",
       "      <td>0.0</td>\n",
       "      <td>False</td>\n",
       "    </tr>\n",
       "    <tr>\n",
       "      <th>NGCC</th>\n",
       "      <td>6114087.0</td>\n",
       "      <td>False</td>\n",
       "    </tr>\n",
       "    <tr>\n",
       "      <th>nuclear</th>\n",
       "      <td>0.0</td>\n",
       "      <td>False</td>\n",
       "    </tr>\n",
       "    <tr>\n",
       "      <th>hydro</th>\n",
       "      <td>35527886.0</td>\n",
       "      <td>False</td>\n",
       "    </tr>\n",
       "    <tr>\n",
       "      <th>wind</th>\n",
       "      <td>53731578.0</td>\n",
       "      <td>True</td>\n",
       "    </tr>\n",
       "    <tr>\n",
       "      <th>solar</th>\n",
       "      <td>38955394.0</td>\n",
       "      <td>True</td>\n",
       "    </tr>\n",
       "    <tr>\n",
       "      <th>ev</th>\n",
       "      <td>0.0</td>\n",
       "      <td>True</td>\n",
       "    </tr>\n",
       "  </tbody>\n",
       "</table>\n",
       "</div>"
      ],
      "text/plain": [
       "         MWh Generated  Binding?\n",
       "coal               0.0     False\n",
       "NGCC         6114087.0     False\n",
       "nuclear            0.0     False\n",
       "hydro       35527886.0     False\n",
       "wind        53731578.0      True\n",
       "solar       38955394.0      True\n",
       "ev                 0.0      True"
      ]
     },
     "metadata": {},
     "output_type": "display_data"
    }
   ],
   "source": [
    "# Print the optimal decision variable solutions\n",
    "d = {'MWh Generated': (F.getAttr('x')/1e3).round(0),\n",
    "     'Binding?': (TotalDemand*np.array(MAXGEN)==F.getAttr('x'))}\n",
    "initSoln = pd.DataFrame(data=d, index=FUEL)\n",
    "display(initSoln)\n"
   ]
  },
  {
   "cell_type": "markdown",
   "metadata": {},
   "source": [
    "---\n",
    "## Review Constraints"
   ]
  },
  {
   "cell_type": "code",
   "execution_count": 305,
   "metadata": {},
   "outputs": [],
   "source": [
    "# Calculate used budget\n",
    "# leftoverBudget = m.getConstrByName('Const5').Slack"
   ]
  },
  {
   "cell_type": "markdown",
   "metadata": {},
   "source": [
    "---\n",
    "## Senstivity Analysis"
   ]
  },
  {
   "cell_type": "code",
   "execution_count": null,
   "metadata": {},
   "outputs": [
    {
     "name": "stdout",
     "output_type": "stream",
     "text": [
      "[2.765525, 2.765525, 2.765525, 2.765525, 2.765525, 2.765525, 2.765525, 2.765525, 2.765525, 2.765525, 2.765525, 2.765525, 2.765525, 2.765525, 2.765525, 2.765525, 2.765525, 2.765525, 2.765525, 2.765525, 2.765525, 2.765525, 2.765525, 2.765525, 2.765525, 2.765525, 2.765525, 2.765525, 2.765525, 2.765525, 2.765525, 2.765525, 2.765525, 2.765525, 2.765525, 2.765525, 2.765525, 2.765525, 2.765525, 2.765525, 2.765525, 2.765525, 2.765525, 2.765525, 2.765525, 2.765525, 2.765525, 2.765525, 2.765525, 2.765525, 2.765525, 2.765525, 2.765525, 2.765525, 2.765525, 2.765525, 2.765525, 2.765525, 2.765525, 2.765525, 2.765525, 2.765525, 2.765525, 2.765525, 2.765525, 2.765525, 2.765525, 2.765525, 2.765525, 2.765525, 2.765525, 2.765525, 2.765525, 2.765525, 2.765525, 2.765525, 2.765525, 2.765525, 2.765525, 2.765525, 2.765525, 2.765525, 2.765525, 2.765525, 2.765525, 2.765525, 2.765525, 2.765525, 2.765525, 2.765525, 2.765525, 2.765525, 2.765525, 2.765525, 2.765525, 2.765525, 2.765525, 2.765525, 2.765525, 2.765525, 3.478731288994156, 3.480157548858198, 3.4815838087222404, 3.483010068586282, 3.484436328450323, 3.4858625883143657, 3.487288848178409, 3.488715108042451, 3.490141367906492, 3.491567627770535, 3.4929938876345767, 3.494420147498617, 3.4958464073626607, 3.497272667226703, 3.498698927090745, 3.5001251869547874, 3.5015514468188296, 3.5029777066828713, 3.5044039665469136, 3.5058302264109558, 3.5072564862749975, 3.5086827461390397, 3.5101090060030824, 3.5115352658671246, 3.512961525731166, 3.5143877855952086, 3.51581404545925, 3.5172403053232926, 3.518666565187335, 3.520092825051377, 3.521519084915419, 3.5229453447794605, 3.5243716046435027, 3.525797864507545, 3.5272241243715876, 3.528650384235629, 3.530076644099671, 3.5315029039637134, 3.5329291638277556, 3.534355423691798, 3.53578168355584, 3.5372079434198818, 3.538634203283924, 3.5400604631479653, 3.541486723012008, 3.54291298287605, 3.544339242740093, 3.5457655026041346, 3.547191762468177, 3.548618022332219, 3.5500442821962612, 3.551470542060303, 3.552896801924345, 3.5543230617883865, 3.5557493216524296, 3.557175581516471, 3.558601841380513, 3.560028101244556, 3.561454361108597, 3.5628806209726394, 3.5643068808366816, 3.5657331407007233, 3.5671594005647655, 3.568585660428808, 3.5700119202928504, 3.571438180156892, 3.572864440020932, 3.5742906998849766, 3.5757169597490184, 3.5771432196130597, 3.578569479477103, 3.579995739341145, 3.5814219992051872, 3.5828482590692294, 3.584274518933271, 3.585700778797313, 3.5871270386613547, 3.588553298525397, 3.589979558389439, 3.5914058182534814, 3.5928320781175236, 3.594258337981566, 3.5956845978456076, 3.59711085770965, 3.598537117573692, 3.5999633774377338, 3.601389637301776, 3.6028158971658186, 3.6042421570298604, 3.6056684168939026, 3.607094676757945, 3.608520936621987, 3.609947196486029, 3.611373456350071, 3.612799716214113, 3.6142259760781554, 3.6156522359421976, 3.617078495806239, 3.6185047556702816, 3.6199310155343234, 4.055589239277806, 4.056658934175837, 4.057728629073869, 4.0587983239719, 4.059868018869932, 4.060937713767963, 4.062007408665995, 4.0630771035640265, 4.064146798462058, 4.06521649336009, 4.066286188258121, 4.067355883156153, 4.068425578054184, 4.069495272952216, 4.070564967850248, 4.071634662748279, 4.072704357646311, 4.073774052544342, 4.074843747442373, 4.075913442340405, 4.076983137238437, 4.078052832136469, 4.0791225270345, 4.080192221932532, 4.081261916830563, 4.082331611728595, 4.083401306626627, 4.084471001524658, 4.08554069642269, 4.086610391320722, 4.087680086218753, 4.0887497811167846, 4.089819476014815, 4.090889170912847, 4.091958865810879, 4.093028560708911, 4.0940982556069425, 4.095167950504974, 4.096237645403005, 4.097307340301037, 4.098377035199069, 4.0994467300971, 4.100516424995131, 4.101586119893163, 4.102655814791195, 4.357022719989655, 4.358092414887688, 4.359162109785719, 4.3602318046837505, 4.361301499581782, 4.362371194479813, 4.363440889377845, 4.364510584275877, 4.3655802791739085, 4.366649974071939, 4.367719668969972, 4.368789363868003, 4.369859058766035, 4.3709287536640655, 4.371998448562098, 4.373068143460129, 4.374137838358161, 4.375207533256193, 4.376277228154224, 4.377346923052255, 4.378416617950287, 4.379486312848319, 4.380556007746351, 4.3816257026443814, 4.382695397542413, 4.383765092440445, 4.384834787338476, 4.385904482236508, 4.3869741771345385, 4.388043872032571, 4.389113566930603, 4.390183261828635, 4.391252956726666, 4.392322651624697, 4.393392346522729, 4.394462041420761, 4.395531736318792, 4.3966014312168245, 4.397671126114855, 4.398740821012887, 4.399810515910918, 4.400880210808951, 4.4019499057069815, 4.403019600605013, 4.404089295503045, 4.405158990401077, 4.406228685299108, 4.4072983801971395, 4.408368075095171, 4.409437769993203, 4.410507464891234, 4.411577159789266, 4.4126468546872974, 4.413716549585329, 4.41478624448336]\n"
     ]
    },
    {
     "data": {
      "image/png": "[encoded data removed]",
      "text/plain": [
       "<Figure size 1000x600 with 1 Axes>"
      ]
     },
     "metadata": {},
     "output_type": "display_data"
    }
   ],
   "source": [
    "# newTotalBudget = TotalBudget*1.1\n",
    "# # Hint: You can change the value of the total budget with this command, by changing the right\n",
    "# # hand side of Constraint 5, be sure constraint 5 is named 'Const5'\n",
    "# m.getConstrByName('Const5').setAttr('RHS', newTotalBudget)\n",
    "\n",
    "# # Re-solve\n",
    "# m.update()\n",
    "# m.optimize()\n",
    "\n",
    "# # Print optimal objective function value\n",
    "# newObjVal = m.getAttr(\"ObjVal\")\n",
    "# print(f\"New Co2 Emissions Objective value: \",\"%.0f\" %  newObjVal)\n",
    "# print(f\"Pct Change in Objective value: \",\"%.1f\" % ((newObjVal-initObjVal)/initObjVal*100))\n",
    "\n",
    "# newSoln = pd.DataFrame(SCM.getAttr('x'), index=ODM_names, columns=transport_names)\n",
    "# print(\"Change from Initial Solution\")\n",
    "# display(newSoln-initSoln)\n",
    "\n",
    "# # sensitivity table \n",
    "state = 'WA'\n",
    "futureDemandGrowth = np.arange(1, 2+0.1, .5) # Future electricity demand as pct of current\n",
    "futureCo2Improve = np.arange(1, 0.5, -0.005) # Future emissions target as pct of current\n",
    "\n",
    "# # We will create a vector of emissions by looping through budget_sensitivity\n",
    "price = []\n",
    "for demand in futureDemandGrowth:\n",
    "    TotalDemand = STATES['Demand (MWh)'][state]*1e3*demand\n",
    "    m.getConstrByName('Const1').setAttr('RHS', TotalDemand)\n",
    "    for emission in futureCo2Improve:\n",
    "        LimitCO2 = STATES['CO2 Emissions (million metric tons)'][state]*1e12*emission\n",
    "        m.getConstrByName('Const2').setAttr('RHS', LimitCO2)\n",
    "        m.update()\n",
    "        m.optimize()\n",
    "        price.append(m.getAttr(\"ObjVal\")*100/TotalDemand)\n",
    "    \n",
    "# Graph results\n",
    "plt.figure(figsize=(10, 6))\n",
    "for i in range(len(futureDemandGrowth)):\n",
    "    plt.plot([((1-x) * 100) for x in futureCo2Improve],\n",
    "             price[i*len(futureCo2Improve):(i+1)*len(futureCo2Improve)])\n",
    "plt.title('Price vs CO2 Emissions Target', fontsize=14)\n",
    "plt.xlabel('% Emissions Reduction', fontsize=12)\n",
    "plt.ylabel('Energy Price', fontsize=12)\n",
    "plt.legend(futureDemandGrowth, title='Future % of Current Demand')\n",
    "plt.grid(True)\n",
    "plt.show()"
   ]
  }
 ],
 "metadata": {
  "kernelspec": {
   "display_name": ".venv",
   "language": "python",
   "name": "python3"
  },
  "language_info": {
   "codemirror_mode": {
    "name": "ipython",
    "version": 3
   },
   "file_extension": ".py",
   "mimetype": "text/x-python",
   "name": "python",
   "nbconvert_exporter": "python",
   "pygments_lexer": "ipython3",
   "version": "3.12.11"
  }
 },
 "nbformat": 4,
 "nbformat_minor": 2
}
