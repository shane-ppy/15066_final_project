{
 "cells": [
  {
   "cell_type": "markdown",
   "metadata": {},
   "source": [
    "# 15.066 Summer 2025\n",
    "## System Optimization and Analysis for Operations\n",
    "### final Project - Group 5A\n",
    "---\n",
    "Grayson Adams, Shane Pornprinya, Becca Sholler\n",
    "\n",
    "---"
   ]
  },
  {
   "cell_type": "markdown",
   "metadata": {},
   "source": [
    "## Load Packages"
   ]
  },
  {
   "cell_type": "code",
   "execution_count": 1,
   "metadata": {},
   "outputs": [
    {
     "name": "stdout",
     "output_type": "stream",
     "text": [
      "Variable       Type       Data/Info\n",
      "-----------------------------------\n",
      "CE             ndarray    7: 7 elems, type `float64`, 56 bytes\n",
      "CEU            ndarray    9x7: 63 elems, type `float64`, 504 bytes\n",
      "GRB            type       <class 'gurobipy._grb.GRB'>\n",
      "MaxProd        float      600000.0\n",
      "MinAir32       float      53000.0\n",
      "MinAir42       float      46000.0\n",
      "MinProd        float      200000.0\n",
      "MinRail32      float      79500.0\n",
      "MinRail42      float      138000.0\n",
      "MinRoad32      float      79500.0\n",
      "MinRoad42      float      92000.0\n",
      "NumODM         int        9\n",
      "NumTran        int        7\n",
      "OEMD           ndarray    9x7: 63 elems, type `int64`, 504 bytes\n",
      "PSCU           ndarray    9x7: 63 elems, type `float64`, 504 bytes\n",
      "SCMT           ndarray    9x7: 63 elems, type `float64`, 504 bytes\n",
      "TotalBudget    float      3000000000.0\n",
      "TotalUnits32   float      530000.0\n",
      "TotalUnits42   float      920000.0\n",
      "UPC            ndarray    9: 9 elems, type `float64`, 72 bytes\n",
      "gp             module     <module 'gurobipy' from '<...>es/gurobipy/__init__.py'>\n",
      "np             module     Shape: <function shape at 0x10b16e020>\n",
      "pd             module     <module 'pandas' from '/U<...>ages/pandas/__init__.py'>\n",
      "plt            module     <module 'matplotlib.pyplo<...>es/matplotlib/pyplot.py'>\n"
     ]
    }
   ],
   "source": [
    "import gurobipy as gp\n",
    "from gurobipy import GRB\n",
    "import pandas as pd\n",
    "import numpy as np\n",
    "import matplotlib.pyplot as plt\n",
    "from project_data import *\n",
    "%whos"
   ]
  },
  {
   "cell_type": "code",
   "execution_count": 2,
   "metadata": {},
   "outputs": [],
   "source": [
    "# Set up Gurobi environment\n",
    "env = gp.Env(empty=True)\n",
    "env.setParam('OutputFlag', 0)\n",
    "env.start()\n",
    "\n",
    "# Initialize the model\n",
    "m = gp.Model(env=env)"
   ]
  },
  {
   "cell_type": "markdown",
   "metadata": {},
   "source": [
    "---\n",
    "## Optimization Case Details"
   ]
  },
  {
   "cell_type": "code",
   "execution_count": null,
   "metadata": {},
   "outputs": [],
   "source": [
    "state = 'WA'\n",
    "TotalDemand = STATES[state]['Demand']"
   ]
  },
  {
   "cell_type": "markdown",
   "metadata": {},
   "source": [
    "---\n",
    "## Decision Variables"
   ]
  },
  {
   "cell_type": "code",
   "execution_count": null,
   "metadata": {},
   "outputs": [],
   "source": [
    "### Decision Variables ###\n",
    "\n",
    "## Continuous\n",
    "# A vector of qty of each fuel type\n",
    "F = m.addMVar(NUMFT, vtype=GRB.CONTINUOUS, name='Fuel') # For single day\n",
    "# F = m.addMVar((NUMFT,24), vtype=GRB.CONTINUOUS, name='Fuel') # Split into hours\n",
    "\n",
    "## Binary\n",
    "# Whether or not to use nuclear (given minimum constraint)\n",
    "XNuclear = m.addVar(vtype=GRB.BINARY, lb=0, name='FNuclear') "
   ]
  },
  {
   "cell_type": "markdown",
   "metadata": {},
   "source": [
    "---\n",
    "## Objective Function"
   ]
  },
  {
   "cell_type": "code",
   "execution_count": null,
   "metadata": {},
   "outputs": [],
   "source": [
    "# Objective function: minimize cost\n",
    "m.setObjective(gp.quicksum(F[i]*C[i] for i in range(NUMFT)),GRB.MINIMIZE)"
   ]
  },
  {
   "cell_type": "markdown",
   "metadata": {},
   "source": [
    "---\n",
    "## Constraints"
   ]
  },
  {
   "cell_type": "code",
   "execution_count": null,
   "metadata": {},
   "outputs": [],
   "source": [
    "### Constraints ###\n",
    "# Total production must meet demand\n",
    "Const1 = m.addConstrs(gp.quicksum(F[i] for i in range(NUMFT))>=TotalDemand)\n",
    "\n",
    "# Total CO2 emissions must be less than limit\n",
    "Const2 = m.addConstrs(gp.quicksum(F[i]*E[i] for i in range(NUMFT))<=MAXCO2)\n",
    "\n",
    "# Total number of TVs for each shipping mode must be greater than the Minimum Shipping Requirement\n",
    "Const3 = m.addConstr(gp.quicksum(SCM[i,j] for i in range(0,7) for j in range(0,2))>=MinAir42, name='Const2a1') # 42\" Regular Air or Air Express\n",
    "Const2b1 = m.addConstr(gp.quicksum(SCM[i,j] for i in range(0,7) for j in range(2,5))>=MinRoad42, name='Const2b1')  # 42\" Road, Road LTL, or Road Network\n",
    "Const2c1 = m.addConstr(gp.quicksum(SCM[i,5] for i in range(0,7))>=MinRail42, name='Const2c1')  # 42\" Rail\n",
    "Const2a2 = m.addConstr(gp.quicksum(SCM[i,j] for i in range(7,9) for j in range(0,2))>=MinAir32, name='Const2a2')  # 32\" Regular Air or Air Express\n",
    "Const2b2 = m.addConstr(gp.quicksum(SCM[i,j] for i in range(7,9) for j in range(2,5))>=MinRoad32, name='Const2b2')  # 32\" Road, Road LTL, or Road Network\n",
    "Const2c2 = m.addConstr(gp.quicksum(SCM[i,5] for i in range(7,9))>=MinRail32, name='Const2c2')  # 32\" Rail\n"
   ]
  },
  {
   "cell_type": "markdown",
   "metadata": {},
   "source": [
    "---\n",
    "## Solve"
   ]
  },
  {
   "cell_type": "code",
   "execution_count": 6,
   "metadata": {},
   "outputs": [],
   "source": [
    "# Update and write the model\n",
    "m.update() # Update model parameters\n",
    "m.write(\"15066_final_project_5A.lp\") # Write model to file\n",
    "m.optimize() # Solve"
   ]
  },
  {
   "cell_type": "code",
   "execution_count": 7,
   "metadata": {},
   "outputs": [
    {
     "name": "stdout",
     "output_type": "stream",
     "text": [
      "\n",
      "Objective value:  7401309.89\n"
     ]
    }
   ],
   "source": [
    "# Print optimal objective function value\n",
    "initObjVal = m.getAttr(\"ObjVal\")\n",
    "print(\"\\nObjective value: \", \"%.2f\" % initObjVal)"
   ]
  },
  {
   "cell_type": "code",
   "execution_count": 8,
   "metadata": {},
   "outputs": [
    {
     "data": {
      "application/vnd.microsoft.datawrangler.viewer.v0+json": {
       "columns": [
        {
         "name": "index",
         "rawType": "object",
         "type": "string"
        },
        {
         "name": "Air",
         "rawType": "float64",
         "type": "float"
        },
        {
         "name": "Express",
         "rawType": "float64",
         "type": "float"
        },
        {
         "name": "Road",
         "rawType": "float64",
         "type": "float"
        },
        {
         "name": "Road LTL",
         "rawType": "float64",
         "type": "float"
        },
        {
         "name": "Road-Network",
         "rawType": "float64",
         "type": "float"
        },
        {
         "name": "Rail",
         "rawType": "float64",
         "type": "float"
        },
        {
         "name": "Water",
         "rawType": "float64",
         "type": "float"
        }
       ],
       "ref": "31dd08f5-53a4-4b1c-9f4b-4be613b9ca70",
       "rows": [
        [
         "LCD 42\" ODM1",
         "0.0",
         "0.0",
         "0.0",
         "0.0",
         "90450.0",
         "0.0",
         "229550.0"
        ],
        [
         "LCD 42\" ODM2",
         "0.0",
         "0.0",
         "0.0",
         "0.0",
         "0.0",
         "0.0",
         "0.0"
        ],
        [
         "LCD 42\" ODM3",
         "0.0",
         "0.0",
         "0.0",
         "0.0",
         "0.0",
         "0.0",
         "0.0"
        ],
        [
         "LCD 42\" ODM4",
         "46000.0",
         "0.0",
         "0.0",
         "0.0",
         "1550.0",
         "138000.0",
         "414450.0"
        ],
        [
         "LCD 42\" ODM5",
         "-0.0",
         "-0.0",
         "0.0",
         "0.0",
         "0.0",
         "-0.0",
         "-0.0"
        ],
        [
         "LCD 42\" ODM6",
         "0.0",
         "0.0",
         "-0.0",
         "-0.0",
         "-0.0",
         "-0.0",
         "0.0"
        ],
        [
         "LCD 42\" ODM7",
         "0.0",
         "0.0",
         "0.0",
         "0.0",
         "0.0",
         "0.0",
         "0.0"
        ],
        [
         "LCD 32\" ODM1",
         "53000.0",
         "0.0",
         "0.0",
         "0.0",
         "79500.0",
         "79500.0",
         "318000.0"
        ],
        [
         "LCD 32\" ODM2",
         "0.0",
         "0.0",
         "0.0",
         "0.0",
         "0.0",
         "0.0",
         "0.0"
        ]
       ],
       "shape": {
        "columns": 7,
        "rows": 9
       }
      },
      "text/html": [
       "<div>\n",
       "<style scoped>\n",
       "    .dataframe tbody tr th:only-of-type {\n",
       "        vertical-align: middle;\n",
       "    }\n",
       "\n",
       "    .dataframe tbody tr th {\n",
       "        vertical-align: top;\n",
       "    }\n",
       "\n",
       "    .dataframe thead th {\n",
       "        text-align: right;\n",
       "    }\n",
       "</style>\n",
       "<table border=\"1\" class=\"dataframe\">\n",
       "  <thead>\n",
       "    <tr style=\"text-align: right;\">\n",
       "      <th></th>\n",
       "      <th>Air</th>\n",
       "      <th>Express</th>\n",
       "      <th>Road</th>\n",
       "      <th>Road LTL</th>\n",
       "      <th>Road-Network</th>\n",
       "      <th>Rail</th>\n",
       "      <th>Water</th>\n",
       "    </tr>\n",
       "  </thead>\n",
       "  <tbody>\n",
       "    <tr>\n",
       "      <th>LCD 42\" ODM1</th>\n",
       "      <td>0.0</td>\n",
       "      <td>0.0</td>\n",
       "      <td>0.0</td>\n",
       "      <td>0.0</td>\n",
       "      <td>90450.0</td>\n",
       "      <td>0.0</td>\n",
       "      <td>229550.0</td>\n",
       "    </tr>\n",
       "    <tr>\n",
       "      <th>LCD 42\" ODM2</th>\n",
       "      <td>0.0</td>\n",
       "      <td>0.0</td>\n",
       "      <td>0.0</td>\n",
       "      <td>0.0</td>\n",
       "      <td>0.0</td>\n",
       "      <td>0.0</td>\n",
       "      <td>0.0</td>\n",
       "    </tr>\n",
       "    <tr>\n",
       "      <th>LCD 42\" ODM3</th>\n",
       "      <td>0.0</td>\n",
       "      <td>0.0</td>\n",
       "      <td>0.0</td>\n",
       "      <td>0.0</td>\n",
       "      <td>0.0</td>\n",
       "      <td>0.0</td>\n",
       "      <td>0.0</td>\n",
       "    </tr>\n",
       "    <tr>\n",
       "      <th>LCD 42\" ODM4</th>\n",
       "      <td>46000.0</td>\n",
       "      <td>0.0</td>\n",
       "      <td>0.0</td>\n",
       "      <td>0.0</td>\n",
       "      <td>1550.0</td>\n",
       "      <td>138000.0</td>\n",
       "      <td>414450.0</td>\n",
       "    </tr>\n",
       "    <tr>\n",
       "      <th>LCD 42\" ODM5</th>\n",
       "      <td>-0.0</td>\n",
       "      <td>-0.0</td>\n",
       "      <td>0.0</td>\n",
       "      <td>0.0</td>\n",
       "      <td>0.0</td>\n",
       "      <td>-0.0</td>\n",
       "      <td>-0.0</td>\n",
       "    </tr>\n",
       "    <tr>\n",
       "      <th>LCD 42\" ODM6</th>\n",
       "      <td>0.0</td>\n",
       "      <td>0.0</td>\n",
       "      <td>-0.0</td>\n",
       "      <td>-0.0</td>\n",
       "      <td>-0.0</td>\n",
       "      <td>-0.0</td>\n",
       "      <td>0.0</td>\n",
       "    </tr>\n",
       "    <tr>\n",
       "      <th>LCD 42\" ODM7</th>\n",
       "      <td>0.0</td>\n",
       "      <td>0.0</td>\n",
       "      <td>0.0</td>\n",
       "      <td>0.0</td>\n",
       "      <td>0.0</td>\n",
       "      <td>0.0</td>\n",
       "      <td>0.0</td>\n",
       "    </tr>\n",
       "    <tr>\n",
       "      <th>LCD 32\" ODM1</th>\n",
       "      <td>53000.0</td>\n",
       "      <td>0.0</td>\n",
       "      <td>0.0</td>\n",
       "      <td>0.0</td>\n",
       "      <td>79500.0</td>\n",
       "      <td>79500.0</td>\n",
       "      <td>318000.0</td>\n",
       "    </tr>\n",
       "    <tr>\n",
       "      <th>LCD 32\" ODM2</th>\n",
       "      <td>0.0</td>\n",
       "      <td>0.0</td>\n",
       "      <td>0.0</td>\n",
       "      <td>0.0</td>\n",
       "      <td>0.0</td>\n",
       "      <td>0.0</td>\n",
       "      <td>0.0</td>\n",
       "    </tr>\n",
       "  </tbody>\n",
       "</table>\n",
       "</div>"
      ],
      "text/plain": [
       "                  Air  Express  Road  Road LTL  Road-Network      Rail  \\\n",
       "LCD 42\" ODM1      0.0      0.0   0.0       0.0       90450.0       0.0   \n",
       "LCD 42\" ODM2      0.0      0.0   0.0       0.0           0.0       0.0   \n",
       "LCD 42\" ODM3      0.0      0.0   0.0       0.0           0.0       0.0   \n",
       "LCD 42\" ODM4  46000.0      0.0   0.0       0.0        1550.0  138000.0   \n",
       "LCD 42\" ODM5     -0.0     -0.0   0.0       0.0           0.0      -0.0   \n",
       "LCD 42\" ODM6      0.0      0.0  -0.0      -0.0          -0.0      -0.0   \n",
       "LCD 42\" ODM7      0.0      0.0   0.0       0.0           0.0       0.0   \n",
       "LCD 32\" ODM1  53000.0      0.0   0.0       0.0       79500.0   79500.0   \n",
       "LCD 32\" ODM2      0.0      0.0   0.0       0.0           0.0       0.0   \n",
       "\n",
       "                 Water  \n",
       "LCD 42\" ODM1  229550.0  \n",
       "LCD 42\" ODM2       0.0  \n",
       "LCD 42\" ODM3       0.0  \n",
       "LCD 42\" ODM4  414450.0  \n",
       "LCD 42\" ODM5      -0.0  \n",
       "LCD 42\" ODM6       0.0  \n",
       "LCD 42\" ODM7       0.0  \n",
       "LCD 32\" ODM1  318000.0  \n",
       "LCD 32\" ODM2       0.0  "
      ]
     },
     "metadata": {},
     "output_type": "display_data"
    }
   ],
   "source": [
    "# Print the optimal decsion variable solutions\n",
    "transport_names = ['Air', 'Express', 'Road', 'Road LTL', 'Road-Network', 'Rail', 'Water']\n",
    "ODM_names = ['LCD 42\" ODM1', 'LCD 42\" ODM2', 'LCD 42\" ODM3', 'LCD 42\" ODM4', 'LCD 42\" ODM5', \n",
    "             'LCD 42\" ODM6', 'LCD 42\" ODM7', 'LCD 32\" ODM1', 'LCD 32\" ODM2']\n",
    "\n",
    "initSoln = pd.DataFrame(SCM.getAttr('x'), index=ODM_names, columns=transport_names)\n",
    "display(initSoln)"
   ]
  },
  {
   "cell_type": "markdown",
   "metadata": {},
   "source": [
    "---\n",
    "## Review Constraints"
   ]
  },
  {
   "cell_type": "code",
   "execution_count": 9,
   "metadata": {},
   "outputs": [
    {
     "name": "stdout",
     "output_type": "stream",
     "text": [
      "Leftover Budget: $ 0.0\n",
      "Budget % Used:  100.0 %\n"
     ]
    }
   ],
   "source": [
    "# Calculate used budget\n",
    "leftoverBudget = m.getConstrByName('Const5').Slack\n",
    "print(f'Leftover Budget: $',(leftoverBudget))\n",
    "print(f'Budget % Used: ',((TotalBudget-leftoverBudget)/TotalBudget)*100,'%')"
   ]
  },
  {
   "cell_type": "markdown",
   "metadata": {},
   "source": [
    "---\n",
    "## Senstivity Analysis"
   ]
  },
  {
   "cell_type": "code",
   "execution_count": 10,
   "metadata": {},
   "outputs": [
    {
     "name": "stdout",
     "output_type": "stream",
     "text": [
      "New Co2 Emissions Objective value:  3479982\n",
      "Pct Change in Objective value:  -53.0\n",
      "Change from Initial Solution\n"
     ]
    },
    {
     "data": {
      "application/vnd.microsoft.datawrangler.viewer.v0+json": {
       "columns": [
        {
         "name": "index",
         "rawType": "object",
         "type": "string"
        },
        {
         "name": "Air",
         "rawType": "float64",
         "type": "float"
        },
        {
         "name": "Express",
         "rawType": "float64",
         "type": "float"
        },
        {
         "name": "Road",
         "rawType": "float64",
         "type": "float"
        },
        {
         "name": "Road LTL",
         "rawType": "float64",
         "type": "float"
        },
        {
         "name": "Road-Network",
         "rawType": "float64",
         "type": "float"
        },
        {
         "name": "Rail",
         "rawType": "float64",
         "type": "float"
        },
        {
         "name": "Water",
         "rawType": "float64",
         "type": "float"
        }
       ],
       "ref": "c9f2b1ff-20a3-48a5-acbc-2675008e7585",
       "rows": [
        [
         "LCD 42\" ODM1",
         "0.0",
         "0.0",
         "0.0",
         "0.0",
         "-90450.0",
         "0.0",
         "-229550.0"
        ],
        [
         "LCD 42\" ODM2",
         "0.0",
         "0.0",
         "0.0",
         "0.0",
         "0.0",
         "0.0",
         "0.0"
        ],
        [
         "LCD 42\" ODM3",
         "0.0",
         "0.0",
         "0.0",
         "0.0",
         "0.0",
         "0.0",
         "0.0"
        ],
        [
         "LCD 42\" ODM4",
         "-46000.0",
         "0.0",
         "0.0",
         "0.0",
         "-1550.0",
         "-138000.0",
         "-94450.0"
        ],
        [
         "LCD 42\" ODM5",
         "0.0",
         "0.0",
         "0.0",
         "0.0",
         "0.0",
         "0.0",
         "0.0"
        ],
        [
         "LCD 42\" ODM6",
         "0.0",
         "0.0",
         "0.0",
         "0.0",
         "0.0",
         "0.0",
         "0.0"
        ],
        [
         "LCD 42\" ODM7",
         "46000.0",
         "0.0",
         "0.0",
         "0.0",
         "92000.0",
         "138000.0",
         "324000.0"
        ],
        [
         "LCD 32\" ODM1",
         "-53000.0",
         "0.0",
         "0.0",
         "0.0",
         "-79500.0",
         "-79500.0",
         "-318000.0"
        ],
        [
         "LCD 32\" ODM2",
         "53000.0",
         "0.0",
         "0.0",
         "0.0",
         "79500.0",
         "79500.0",
         "318000.0"
        ]
       ],
       "shape": {
        "columns": 7,
        "rows": 9
       }
      },
      "text/html": [
       "<div>\n",
       "<style scoped>\n",
       "    .dataframe tbody tr th:only-of-type {\n",
       "        vertical-align: middle;\n",
       "    }\n",
       "\n",
       "    .dataframe tbody tr th {\n",
       "        vertical-align: top;\n",
       "    }\n",
       "\n",
       "    .dataframe thead th {\n",
       "        text-align: right;\n",
       "    }\n",
       "</style>\n",
       "<table border=\"1\" class=\"dataframe\">\n",
       "  <thead>\n",
       "    <tr style=\"text-align: right;\">\n",
       "      <th></th>\n",
       "      <th>Air</th>\n",
       "      <th>Express</th>\n",
       "      <th>Road</th>\n",
       "      <th>Road LTL</th>\n",
       "      <th>Road-Network</th>\n",
       "      <th>Rail</th>\n",
       "      <th>Water</th>\n",
       "    </tr>\n",
       "  </thead>\n",
       "  <tbody>\n",
       "    <tr>\n",
       "      <th>LCD 42\" ODM1</th>\n",
       "      <td>0.0</td>\n",
       "      <td>0.0</td>\n",
       "      <td>0.0</td>\n",
       "      <td>0.0</td>\n",
       "      <td>-90450.0</td>\n",
       "      <td>0.0</td>\n",
       "      <td>-229550.0</td>\n",
       "    </tr>\n",
       "    <tr>\n",
       "      <th>LCD 42\" ODM2</th>\n",
       "      <td>0.0</td>\n",
       "      <td>0.0</td>\n",
       "      <td>0.0</td>\n",
       "      <td>0.0</td>\n",
       "      <td>0.0</td>\n",
       "      <td>0.0</td>\n",
       "      <td>0.0</td>\n",
       "    </tr>\n",
       "    <tr>\n",
       "      <th>LCD 42\" ODM3</th>\n",
       "      <td>0.0</td>\n",
       "      <td>0.0</td>\n",
       "      <td>0.0</td>\n",
       "      <td>0.0</td>\n",
       "      <td>0.0</td>\n",
       "      <td>0.0</td>\n",
       "      <td>0.0</td>\n",
       "    </tr>\n",
       "    <tr>\n",
       "      <th>LCD 42\" ODM4</th>\n",
       "      <td>-46000.0</td>\n",
       "      <td>0.0</td>\n",
       "      <td>0.0</td>\n",
       "      <td>0.0</td>\n",
       "      <td>-1550.0</td>\n",
       "      <td>-138000.0</td>\n",
       "      <td>-94450.0</td>\n",
       "    </tr>\n",
       "    <tr>\n",
       "      <th>LCD 42\" ODM5</th>\n",
       "      <td>0.0</td>\n",
       "      <td>0.0</td>\n",
       "      <td>0.0</td>\n",
       "      <td>0.0</td>\n",
       "      <td>0.0</td>\n",
       "      <td>0.0</td>\n",
       "      <td>0.0</td>\n",
       "    </tr>\n",
       "    <tr>\n",
       "      <th>LCD 42\" ODM6</th>\n",
       "      <td>0.0</td>\n",
       "      <td>0.0</td>\n",
       "      <td>0.0</td>\n",
       "      <td>0.0</td>\n",
       "      <td>0.0</td>\n",
       "      <td>0.0</td>\n",
       "      <td>0.0</td>\n",
       "    </tr>\n",
       "    <tr>\n",
       "      <th>LCD 42\" ODM7</th>\n",
       "      <td>46000.0</td>\n",
       "      <td>0.0</td>\n",
       "      <td>0.0</td>\n",
       "      <td>0.0</td>\n",
       "      <td>92000.0</td>\n",
       "      <td>138000.0</td>\n",
       "      <td>324000.0</td>\n",
       "    </tr>\n",
       "    <tr>\n",
       "      <th>LCD 32\" ODM1</th>\n",
       "      <td>-53000.0</td>\n",
       "      <td>0.0</td>\n",
       "      <td>0.0</td>\n",
       "      <td>0.0</td>\n",
       "      <td>-79500.0</td>\n",
       "      <td>-79500.0</td>\n",
       "      <td>-318000.0</td>\n",
       "    </tr>\n",
       "    <tr>\n",
       "      <th>LCD 32\" ODM2</th>\n",
       "      <td>53000.0</td>\n",
       "      <td>0.0</td>\n",
       "      <td>0.0</td>\n",
       "      <td>0.0</td>\n",
       "      <td>79500.0</td>\n",
       "      <td>79500.0</td>\n",
       "      <td>318000.0</td>\n",
       "    </tr>\n",
       "  </tbody>\n",
       "</table>\n",
       "</div>"
      ],
      "text/plain": [
       "                  Air  Express  Road  Road LTL  Road-Network      Rail  \\\n",
       "LCD 42\" ODM1      0.0      0.0   0.0       0.0      -90450.0       0.0   \n",
       "LCD 42\" ODM2      0.0      0.0   0.0       0.0           0.0       0.0   \n",
       "LCD 42\" ODM3      0.0      0.0   0.0       0.0           0.0       0.0   \n",
       "LCD 42\" ODM4 -46000.0      0.0   0.0       0.0       -1550.0 -138000.0   \n",
       "LCD 42\" ODM5      0.0      0.0   0.0       0.0           0.0       0.0   \n",
       "LCD 42\" ODM6      0.0      0.0   0.0       0.0           0.0       0.0   \n",
       "LCD 42\" ODM7  46000.0      0.0   0.0       0.0       92000.0  138000.0   \n",
       "LCD 32\" ODM1 -53000.0      0.0   0.0       0.0      -79500.0  -79500.0   \n",
       "LCD 32\" ODM2  53000.0      0.0   0.0       0.0       79500.0   79500.0   \n",
       "\n",
       "                 Water  \n",
       "LCD 42\" ODM1 -229550.0  \n",
       "LCD 42\" ODM2       0.0  \n",
       "LCD 42\" ODM3       0.0  \n",
       "LCD 42\" ODM4  -94450.0  \n",
       "LCD 42\" ODM5       0.0  \n",
       "LCD 42\" ODM6       0.0  \n",
       "LCD 42\" ODM7  324000.0  \n",
       "LCD 32\" ODM1 -318000.0  \n",
       "LCD 32\" ODM2  318000.0  "
      ]
     },
     "metadata": {},
     "output_type": "display_data"
    },
    {
     "name": "stdout",
     "output_type": "stream",
     "text": [
      "[7401309.890260001, 5513060.483081696, 4542391.076797709, 3572591.4892011224, 3479982.2601499995, 3416981.6962133604, 3373499.982068513]\n"
     ]
    }
   ],
   "source": [
    "newTotalBudget = TotalBudget*1.1\n",
    "# Hint: You can change the value of the total budget with this command, by changing the right\n",
    "# hand side of Constraint 5, be sure constraint 5 is named 'Const5'\n",
    "m.getConstrByName('Const5').setAttr('RHS', newTotalBudget)\n",
    "\n",
    "# Re-solve\n",
    "m.update()\n",
    "m.optimize()\n",
    "\n",
    "# Print optimal objective function value\n",
    "newObjVal = m.getAttr(\"ObjVal\")\n",
    "print(f\"New Co2 Emissions Objective value: \",\"%.0f\" %  newObjVal)\n",
    "print(f\"Pct Change in Objective value: \",\"%.1f\" % ((newObjVal-initObjVal)/initObjVal*100))\n",
    "\n",
    "newSoln = pd.DataFrame(SCM.getAttr('x'), index=ODM_names, columns=transport_names)\n",
    "print(\"Change from Initial Solution\")\n",
    "display(newSoln-initSoln)\n",
    "\n",
    "# sensitivity table\n",
    "budget_sensitivity = [1.0, 1.02, 1.04, 1.06, 1.1, 1.12, 1.14,] # FILL-IN\n",
    "\n",
    "# We will create a vector of emissions by looping through budget_sensitivity\n",
    "emissions = []\n",
    "for sensitivity in budget_sensitivity:\n",
    "    newTotalBudget = TotalBudget*sensitivity\n",
    "    m.getConstrByName('Const5').setAttr('RHS', newTotalBudget)\n",
    "\n",
    "    # Re-solve\n",
    "    m.update()\n",
    "    m.optimize()\n",
    "\n",
    "    # Print optimal objective function value\n",
    "    emissions.append(m.getAttr(\"ObjVal\"))\n",
    "    \n",
    "print(emissions)"
   ]
  },
  {
   "cell_type": "code",
   "execution_count": 11,
   "metadata": {},
   "outputs": [
    {
     "data": {
      "image/png": "[encoded data removed]",
      "text/plain": [
       "<Figure size 1000x600 with 1 Axes>"
      ]
     },
     "metadata": {},
     "output_type": "display_data"
    }
   ],
   "source": [
    "# Graph results\n",
    "plt.figure(figsize=(10, 6))\n",
    "plt.plot([((x - 1) * 100) for x in budget_sensitivity], emissions, marker='o', linestyle='-', color='b')\n",
    "plt.title('CO2 Emissions vs Budget Increase', fontsize=14)\n",
    "plt.xlabel('% Budget Increase', fontsize=12)\n",
    "plt.ylabel('CO2 Emissions', fontsize=12)\n",
    "plt.grid(True)\n",
    "plt.show()"
   ]
  }
 ],
 "metadata": {
  "kernelspec": {
   "display_name": ".venv",
   "language": "python",
   "name": "python3"
  },
  "language_info": {
   "codemirror_mode": {
    "name": "ipython",
    "version": 3
   },
   "file_extension": ".py",
   "mimetype": "text/x-python",
   "name": "python",
   "nbconvert_exporter": "python",
   "pygments_lexer": "ipython3",
   "version": "3.12.0"
  }
 },
 "nbformat": 4,
 "nbformat_minor": 2
}
