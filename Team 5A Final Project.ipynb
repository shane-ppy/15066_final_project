{
 "cells": [
  {
   "cell_type": "markdown",
   "metadata": {},
   "source": [
    "# 15.066 Summer 2025\n",
    "## System Optimization and Analysis for Operations\n",
    "### final Project - Group 5A\n",
    "---\n",
    "Grayson Adams, Shane Pornprinya, Becca Sholler\n",
    "\n",
    "---"
   ]
  },
  {
   "cell_type": "markdown",
   "metadata": {},
   "source": [
    "## Load Packages"
   ]
  },
  {
   "cell_type": "code",
   "execution_count": null,
   "metadata": {},
   "outputs": [],
   "source": [
    "import gurobipy as gp\n",
    "from gurobipy import GRB\n",
    "import pandas as pd\n",
    "import numpy as np\n",
    "import matplotlib.pyplot as plt\n",
    "# from project_data import *\n",
    "# %whos"
   ]
  },
  {
   "cell_type": "code",
   "execution_count": 189,
   "metadata": {},
   "outputs": [],
   "source": [
    "import numpy as np\n",
    "import os, pathlib\n",
    "import pandas as pd\n",
    "FILE_DIR = os.getcwd()\n",
    "\n",
    "# Fuel Types\n",
    "FUEL = ['coal', 'NGCC', 'nuclear', 'hydro', 'wind', 'solar', 'ev']\n",
    "\n",
    "# Carbon Emission in gCO2e per kWh for each fuel type\n",
    "E = np.array([820, 490, 12, 24, 11.5, 44.5, 0,])\n",
    "\n",
    "# LCOE in $/kWh for each fuel type from AEO2023\n",
    "C = np.array([89.33, 42.72, 71.00, 57.12, 31.07, 23.22, 36.27])/1e3\n",
    "\n",
    "# Number of fuel types\n",
    "NUMFT = len(E)\n",
    "\n",
    "# State level data on population, energy demand, current co2 emissions from electricity\n",
    "FNAME = os.path.join(FILE_DIR, \"StateData.xlsx\")\n",
    "STATES = pd.read_excel(FNAME, sheet_name=\"StateData\", index_col=0, header=0)\n",
    "\n",
    "# EV Capacity (avg) in kWh\n",
    "EVC_MAX = 80\n",
    "\n",
    "# Daily EV energy usage in kWh\n",
    "EVC_MIN = 5*11106/3.5/365 # safety factor * avg annual miles / avg miles/kWh / days per year \n",
    "\n",
    "# Population (of the county)\n",
    "# FNAME = os.path.join(FILE_DIR, \"EVs.csv\") # TODO fix filename\n",
    "# EVS = pd.read_csv(FNAME, dtype={'county': str, 'population': float, 'numEV': float})\n",
    "# EVS['EVB_maxcapacity'] = EVS['numEV'] * EVC_MAX\n",
    "# EVS['EVB_mincapacity'] = EVS['numEV'] * EVC_MIN\n",
    "\n",
    "### Approach 1\n",
    "MAXGEN = [.85, .87, .9, .56, .4, .29, 0] #TODO, Using capacity factor, but does that just represent uptime and we need actual capacity\n",
    "MINGEN = [0, 0, .25, 0, 0, 0, 0,] #TODO, should be expressed as a minimum kWh number??\n",
    "# TODO how to account for these going up with EV bank capacity? constrain dec vars for these three + ev bank to their sum, also individual constrs\n",
    "\n",
    "### Approach 3\n",
    "HRLYDEMAND = np.array([1, 1, 1, 1, 1, 1,\n",
    "                       1, 1, 1, 1, 1, 1,\n",
    "                       1, 1, 1, 1, 1, 1,\n",
    "                       1, 1, 1, 1, 1, 1,]) # TODO Real data, maybe normalized then multiply by DEMANDPC['<state>']\n",
    "HRLYMAXGEN = pd.DataFrame() # TODO 7x24 array, 1 and 2 are inf, others need research. Express as pct of demand so it can scale to county\n",
    "HRLYPRICE = pd.DataFrame() # TODO 7x24 array, most are constant. Units $/kWh"
   ]
  },
  {
   "cell_type": "code",
   "execution_count": 190,
   "metadata": {},
   "outputs": [
    {
     "name": "stdout",
     "output_type": "stream",
     "text": [
      "Set parameter Username\n",
      "Set parameter LicenseID to value 2676206\n",
      "Academic license - for non-commercial use only - expires 2026-06-08\n"
     ]
    }
   ],
   "source": [
    "# Set up Gurobi environment\n",
    "env = gp.Env(empty=True)\n",
    "env.setParam('OutputFlag', 1)\n",
    "env.start()\n",
    "\n",
    "# Initialize the model\n",
    "m = gp.Model(env=env)"
   ]
  },
  {
   "cell_type": "markdown",
   "metadata": {},
   "source": [
    "---\n",
    "## Optimization Case Details"
   ]
  },
  {
   "cell_type": "code",
   "execution_count": 191,
   "metadata": {},
   "outputs": [],
   "source": [
    "state = 'WA'\n",
    "futureDemandGrowth = 1.5 # Future electricity demand as pct of current\n",
    "TotalDemand = STATES['Demand (MWh)'][state]*1e3*futureDemandGrowth # convert to kwh\n",
    "futureCo2Improve = 0.99 # Future emissions target as pct of current\n",
    "LimitCO2 = STATES['CO2 Emissions (million metric tons)'][state]*1e12*futureCo2Improve #convert to gCO2e"
   ]
  },
  {
   "cell_type": "markdown",
   "metadata": {},
   "source": [
    "---\n",
    "## Decision Variables"
   ]
  },
  {
   "cell_type": "code",
   "execution_count": 192,
   "metadata": {},
   "outputs": [],
   "source": [
    "### Decision Variables ###\n",
    "\n",
    "## Continuous\n",
    "# A vector of qty of each fuel type\n",
    "F = m.addMVar(NUMFT, vtype=GRB.CONTINUOUS, name='Fuel') # For single day\n",
    "\n",
    "## Binary\n",
    "# Whether or not to use each fuel type (due to minimum generation constraints)\n",
    "X = m.addMVar(NUMFT, vtype=GRB.BINARY, lb=0) "
   ]
  },
  {
   "cell_type": "markdown",
   "metadata": {},
   "source": [
    "---\n",
    "## Objective Function"
   ]
  },
  {
   "cell_type": "code",
   "execution_count": 193,
   "metadata": {},
   "outputs": [],
   "source": [
    "# Objective function: minimize cost\n",
    "m.setObjective(gp.quicksum(F[i]*C[i] for i in range(NUMFT)),GRB.MINIMIZE)"
   ]
  },
  {
   "cell_type": "markdown",
   "metadata": {},
   "source": [
    "---\n",
    "## Constraints"
   ]
  },
  {
   "cell_type": "code",
   "execution_count": 194,
   "metadata": {},
   "outputs": [
    {
     "name": "stdout",
     "output_type": "stream",
     "text": [
      "Warning for adding constraints: zero or small (< 1e-13) coefficients, ignored\n"
     ]
    }
   ],
   "source": [
    "### Constraints ###\n",
    "# Total production must meet demand\n",
    "Const1 = m.addConstr(gp.quicksum(F[i] for i in range(NUMFT))>=TotalDemand)\n",
    "\n",
    "# Total CO2 emissions must be less than limit\n",
    "Const2 = m.addConstr(gp.quicksum(F[i]*E[i] for i in range(NUMFT))<=LimitCO2)\n",
    "\n",
    "# Generation is capacity limited\n",
    "Const3 = m.addConstrs(F[i] <= MAXGEN[i]*TotalDemand*X[i] for i in range(NUMFT))\n",
    "\n",
    "# Min generation requirements\n",
    "Const4 = m.addConstrs(F[i] >= MINGEN[i]*TotalDemand*X[i] for i in range(NUMFT))"
   ]
  },
  {
   "cell_type": "markdown",
   "metadata": {},
   "source": [
    "---\n",
    "## Solve"
   ]
  },
  {
   "cell_type": "code",
   "execution_count": 195,
   "metadata": {},
   "outputs": [
    {
     "name": "stdout",
     "output_type": "stream",
     "text": [
      "Gurobi Optimizer version 12.0.3 build v12.0.3rc0 (mac64[arm] - Darwin 24.5.0 24F74)\n",
      "\n",
      "CPU model: Apple M3 Pro\n",
      "Thread count: 12 physical cores, 12 logical processors, using up to 12 threads\n",
      "\n",
      "Optimize a model with 16 rows, 14 columns and 34 nonzeros\n",
      "Model fingerprint: 0x22cf6201\n",
      "Variable types: 7 continuous, 7 integer (7 binary)\n",
      "Coefficient statistics:\n",
      "  Matrix range     [1e+00, 1e+11]\n",
      "  Objective range  [2e-02, 9e-02]\n",
      "  Bounds range     [1e+00, 1e+00]\n",
      "  RHS range        [1e+11, 1e+13]\n",
      "Warning: Model contains large matrix coefficients\n",
      "Warning: Model contains large rhs\n",
      "         Consider reformulating model or setting NumericFocus parameter\n",
      "         to avoid numerical issues.\n",
      "Presolve removed 12 rows and 8 columns\n",
      "Presolve time: 0.00s\n",
      "Presolved: 4 rows, 6 columns, 14 nonzeros\n",
      "Variable types: 5 continuous, 1 integer (1 binary)\n",
      "Found heuristic solution: objective 4.676775e+09\n",
      "\n",
      "Root relaxation: cutoff, 2 iterations, 0.00 seconds (0.00 work units)\n",
      "\n",
      "    Nodes    |    Current Node    |     Objective Bounds      |     Work\n",
      " Expl Unexpl |  Obj  Depth IntInf | Incumbent    BestBd   Gap | It/Node Time\n",
      "\n",
      "     0     0     cutoff    0      4.6768e+09 4.6768e+09  0.00%     -    0s\n",
      "\n",
      "Explored 1 nodes (2 simplex iterations) in 0.00 seconds (0.00 work units)\n",
      "Thread count was 12 (of 12 available processors)\n",
      "\n",
      "Solution count 1: 4.67677e+09 \n",
      "\n",
      "Optimal solution found (tolerance 1.00e-04)\n",
      "Best objective 4.676774799547e+09, best bound 4.676774799547e+09, gap 0.0000%\n"
     ]
    }
   ],
   "source": [
    "# Update and write the model\n",
    "m.update() # Update model parameters\n",
    "m.write(\"15066_final_project_5A.lp\") # Write model to file\n",
    "m.optimize() # Solve"
   ]
  },
  {
   "cell_type": "code",
   "execution_count": 196,
   "metadata": {},
   "outputs": [
    {
     "name": "stdout",
     "output_type": "stream",
     "text": [
      "\n",
      "Objective value (total generation cost $): 4676774800\n",
      "\n",
      "Optimized avg retail price (cents/kWh): 3.48\n",
      "\n",
      "Current per capita generation cost (cents/kWh): 10.26\n"
     ]
    }
   ],
   "source": [
    "# Print optimal objective function value\n",
    "initObjVal = m.getAttr(\"ObjVal\")\n",
    "print(\"\\nObjective value (total generation cost $):\", \"%.0f\" % (initObjVal))\n",
    "optCost = initObjVal*100/TotalDemand\n",
    "print(\"\\nOptimized avg retail price (cents/kWh):\", \"%.2f\" % (optCost))\n",
    "currCost = STATES['Average retail price (cents/kWh)'][state]\n",
    "print(\"\\nCurrent per capita generation cost (cents/kWh):\", \"%.2f\" % (currCost))\n"
   ]
  },
  {
   "cell_type": "code",
   "execution_count": 197,
   "metadata": {},
   "outputs": [
    {
     "data": {
      "application/vnd.microsoft.datawrangler.viewer.v0+json": {
       "columns": [
        {
         "name": "index",
         "rawType": "object",
         "type": "string"
        },
        {
         "name": "MWh Generated",
         "rawType": "float64",
         "type": "float"
        }
       ],
       "ref": "d4fb198e-00ea-48e5-badf-f7115d99faa2",
       "rows": [
        [
         "coal",
         "0.0"
        ],
        [
         "NGCC",
         "19152713.0"
        ],
        [
         "nuclear",
         "0.0"
        ],
        [
         "hydro",
         "22489260.0"
        ],
        [
         "wind",
         "53731578.0"
        ],
        [
         "solar",
         "38955394.0"
        ],
        [
         "ev",
         "0.0"
        ]
       ],
       "shape": {
        "columns": 1,
        "rows": 7
       }
      },
      "text/html": [
       "<div>\n",
       "<style scoped>\n",
       "    .dataframe tbody tr th:only-of-type {\n",
       "        vertical-align: middle;\n",
       "    }\n",
       "\n",
       "    .dataframe tbody tr th {\n",
       "        vertical-align: top;\n",
       "    }\n",
       "\n",
       "    .dataframe thead th {\n",
       "        text-align: right;\n",
       "    }\n",
       "</style>\n",
       "<table border=\"1\" class=\"dataframe\">\n",
       "  <thead>\n",
       "    <tr style=\"text-align: right;\">\n",
       "      <th></th>\n",
       "      <th>MWh Generated</th>\n",
       "    </tr>\n",
       "  </thead>\n",
       "  <tbody>\n",
       "    <tr>\n",
       "      <th>coal</th>\n",
       "      <td>0.0</td>\n",
       "    </tr>\n",
       "    <tr>\n",
       "      <th>NGCC</th>\n",
       "      <td>19152713.0</td>\n",
       "    </tr>\n",
       "    <tr>\n",
       "      <th>nuclear</th>\n",
       "      <td>0.0</td>\n",
       "    </tr>\n",
       "    <tr>\n",
       "      <th>hydro</th>\n",
       "      <td>22489260.0</td>\n",
       "    </tr>\n",
       "    <tr>\n",
       "      <th>wind</th>\n",
       "      <td>53731578.0</td>\n",
       "    </tr>\n",
       "    <tr>\n",
       "      <th>solar</th>\n",
       "      <td>38955394.0</td>\n",
       "    </tr>\n",
       "    <tr>\n",
       "      <th>ev</th>\n",
       "      <td>0.0</td>\n",
       "    </tr>\n",
       "  </tbody>\n",
       "</table>\n",
       "</div>"
      ],
      "text/plain": [
       "         MWh Generated\n",
       "coal               0.0\n",
       "NGCC        19152713.0\n",
       "nuclear            0.0\n",
       "hydro       22489260.0\n",
       "wind        53731578.0\n",
       "solar       38955394.0\n",
       "ev                 0.0"
      ]
     },
     "metadata": {},
     "output_type": "display_data"
    }
   ],
   "source": [
    "# Print the optimal decsion variable solutions\n",
    "initSoln = pd.DataFrame((F.getAttr('x')/1e3).round(0), index=FUEL, columns=['MWh Generated'])\n",
    "display(initSoln)"
   ]
  },
  {
   "cell_type": "markdown",
   "metadata": {},
   "source": [
    "---\n",
    "## Review Constraints"
   ]
  },
  {
   "cell_type": "code",
   "execution_count": 198,
   "metadata": {},
   "outputs": [],
   "source": [
    "# Calculate used budget\n",
    "# leftoverBudget = m.getConstrByName('Const5').Slack"
   ]
  },
  {
   "cell_type": "markdown",
   "metadata": {},
   "source": [
    "---\n",
    "## Senstivity Analysis"
   ]
  },
  {
   "cell_type": "code",
   "execution_count": 199,
   "metadata": {},
   "outputs": [],
   "source": [
    "# newTotalBudget = TotalBudget*1.1\n",
    "# # Hint: You can change the value of the total budget with this command, by changing the right\n",
    "# # hand side of Constraint 5, be sure constraint 5 is named 'Const5'\n",
    "# m.getConstrByName('Const5').setAttr('RHS', newTotalBudget)\n",
    "\n",
    "# # Re-solve\n",
    "# m.update()\n",
    "# m.optimize()\n",
    "\n",
    "# # Print optimal objective function value\n",
    "# newObjVal = m.getAttr(\"ObjVal\")\n",
    "# print(f\"New Co2 Emissions Objective value: \",\"%.0f\" %  newObjVal)\n",
    "# print(f\"Pct Change in Objective value: \",\"%.1f\" % ((newObjVal-initObjVal)/initObjVal*100))\n",
    "\n",
    "# newSoln = pd.DataFrame(SCM.getAttr('x'), index=ODM_names, columns=transport_names)\n",
    "# print(\"Change from Initial Solution\")\n",
    "# display(newSoln-initSoln)\n",
    "\n",
    "# # sensitivity table\n",
    "# budget_sensitivity = [1.0, 1.02, 1.04, 1.06, 1.1, 1.12, 1.14,] # FILL-IN\n",
    "\n",
    "# # We will create a vector of emissions by looping through budget_sensitivity\n",
    "# emissions = []\n",
    "# for sensitivity in budget_sensitivity:\n",
    "#     newTotalBudget = TotalBudget*sensitivity\n",
    "#     m.getConstrByName('Const5').setAttr('RHS', newTotalBudget)\n",
    "\n",
    "#     # Re-solve\n",
    "#     m.update()\n",
    "#     m.optimize()\n",
    "\n",
    "#     # Print optimal objective function value\n",
    "#     emissions.append(m.getAttr(\"ObjVal\"))\n",
    "    \n",
    "# print(emissions)"
   ]
  },
  {
   "cell_type": "code",
   "execution_count": 200,
   "metadata": {},
   "outputs": [],
   "source": [
    "# # Graph results\n",
    "# plt.figure(figsize=(10, 6))\n",
    "# plt.plot([((x - 1) * 100) for x in budget_sensitivity], emissions, marker='o', linestyle='-', color='b')\n",
    "# plt.title('CO2 Emissions vs Budget Increase', fontsize=14)\n",
    "# plt.xlabel('% Budget Increase', fontsize=12)\n",
    "# plt.ylabel('CO2 Emissions', fontsize=12)\n",
    "# plt.grid(True)\n",
    "# plt.show()"
   ]
  }
 ],
 "metadata": {
  "kernelspec": {
   "display_name": ".venv",
   "language": "python",
   "name": "python3"
  },
  "language_info": {
   "codemirror_mode": {
    "name": "ipython",
    "version": 3
   },
   "file_extension": ".py",
   "mimetype": "text/x-python",
   "name": "python",
   "nbconvert_exporter": "python",
   "pygments_lexer": "ipython3",
   "version": "3.12.11"
  }
 },
 "nbformat": 4,
 "nbformat_minor": 2
}
